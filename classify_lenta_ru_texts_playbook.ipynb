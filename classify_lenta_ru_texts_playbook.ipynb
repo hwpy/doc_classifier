{
 "cells": [
  {
   "cell_type": "markdown",
   "metadata": {},
   "source": [
    "Название: classify_lenta_ru_texts_playbook.ipynb\n",
    "\n",
    "Автор: hwpy  \n",
    "Дата: 2022 Май  \n",
    "Описание: Обработка заголовков текстов, составление словаря, обучение классификатора  \n",
    "Примечания:  \n",
    "* Для демонстрации взят открытый датасет русскоязычных новостей Lenta.ru  \n",
    "* https://www.kaggle.com/yutkin/corpus-of-russian-news-articles-from-lenta/  "
   ]
  },
  {
   "cell_type": "markdown",
   "metadata": {},
   "source": [
    "# Модель"
   ]
  },
  {
   "cell_type": "markdown",
   "metadata": {},
   "source": [
    "**Загружаем стопслова**"
   ]
  },
  {
   "cell_type": "code",
   "execution_count": 1,
   "metadata": {},
   "outputs": [],
   "source": [
    "import os\n",
    "import ssl\n",
    "import nltk\n",
    "\n",
    "CUR_DIR = os.getcwd()\n",
    "# Указать свою директорию\n",
    "PATH_TO_NLTK_DATA = os.path.join(CUR_DIR, 'venv/nltk_data')\n",
    "if not os.path.exists(PATH_TO_NLTK_DATA):\n",
    "    os.makedirs(PATH_TO_NLTK_DATA)\n",
    "if not os.listdir(PATH_TO_NLTK_DATA):\n",
    "    try:\n",
    "        _create_unverified_https_context = ssl._create_unverified_context  # pylint:disable=protected-access\n",
    "    except AttributeError:\n",
    "        pass\n",
    "    else:\n",
    "        ssl._create_default_https_context = _create_unverified_https_context  # pylint:disable=protected-access\n",
    "\n",
    "    nltk.download('stopwords', download_dir=PATH_TO_NLTK_DATA)"
   ]
  },
  {
   "cell_type": "markdown",
   "metadata": {},
   "source": [
    "**Импортируем модули и библиотеки**"
   ]
  },
  {
   "cell_type": "code",
   "execution_count": 2,
   "metadata": {},
   "outputs": [
    {
     "name": "stdout",
     "output_type": "stream",
     "text": [
      "{'моя', 'ж', 'раз', 'вот', 'тот', 'по', 'один', 'нет', 'ему', 'себе', 'сейчас', 'меня', 'надо', 'на', 'тем', 'или', 'какая', 'ну', 'между', 'как', 'всего', 'всех', 'если', 'что', 'этом', 'до', 'него', 'она', 'ведь', 'из', 'ничего', 'под', 'них', 'будет', 'больше', 'этот', 'нее', 'уже', 'во', 'от', 'без', 'вам', 'разве', 'их', 'ней', 'эти', 'было', 'при', 'чего', 'за', 'вдруг', 'то', 'они', 'им', 'мы', 'ни', 'будто', 'со', 'его', 'ей', 'здесь', 'нас', 'себя', 'ее', 'об', 'почти', 'сам', 'а', 'да', 'такой', 'иногда', 'кто', 'можно', 'эту', 'лучше', 'вы', 'ты', 'в', 'вас', 'бы', 'более', 'нибудь', 'того', 'хорошо', 'не', 'теперь', 'когда', 'этого', 'где', 'свою', 'потому', 'с', 'и', 'быть', 'тоже', 'конечно', 'хоть', 'два', 'всегда', 'через', 'был', 'куда', 'никогда', 'этой', 'он', 'так', 'чтоб', 'я', 'может', 'опять', 'нельзя', 'какой', 'много', 'же', 'но', 'только', 'все', 'уж', 'ним', 'про', 'были', 'мой', 'тогда', 'после', 'перед', 'тут', 'чтобы', 'зачем', 'другой', 'ли', 'мне', 'чуть', 'совсем', 'чем', 'даже', 'для', 'том', 'еще', 'к', 'есть', 'впрочем', 'о', 'тебя', 'у', 'всю', 'наконец', 'была', 'потом', 'над', 'три', 'там'}\n"
     ]
    }
   ],
   "source": [
    "from typing import List, Any\n",
    "from IPython.display import display\n",
    "import random\n",
    "import re\n",
    "\n",
    "import pandas as pd\n",
    "import numpy as np\n",
    "import pickle\n",
    "import matplotlib.pyplot as plt\n",
    "\n",
    "from tensorflow.keras import models, metrics  # type: ignore pylint: disable=import-error\n",
    "# utils\n",
    "from tensorflow.keras.models import Sequential  # type: ignore pylint: disable=no-name-in-module, import-error\n",
    "from tensorflow.keras.optimizers import Adam  # type: ignore pylint: disable=no-name-in-module, import-error\n",
    "from tensorflow.keras.layers import Dense, Embedding, LSTM, Dropout  # type: ignore pylint: disable=no-name-in-module, import-error\n",
    "# MaxPooling1D, Conv1D, GlobalMaxPooling1D, Dropout, GRU, SpatialDropout1D\n",
    "from tensorflow.keras.preprocessing.sequence import pad_sequences  # type: ignore pylint: disable=no-name-in-module, import-error\n",
    "from tensorflow.keras.preprocessing.text import Tokenizer  # type: ignore pylint: disable=no-name-in-module, import-error\n",
    "from tensorflow.keras.callbacks import ModelCheckpoint, EarlyStopping  # type: ignore pylint: disable=no-name-in-module, import-error\n",
    "from tensorflow.keras.backend import clear_session  # type: ignore pylint: disable=no-name-in-module, import-error, unused-import\n",
    "\n",
    "from nltk.corpus import stopwords\n",
    "\n",
    "from sklearn.model_selection import train_test_split\n",
    "from sklearn.metrics import classification_report  # confusion_matrix\n",
    "\n",
    "nltk_stopwords = set(stopwords.words('russian'))\n",
    "print(nltk_stopwords)\n",
    "\n",
    "SEED = 42\n",
    "random.seed(SEED)"
   ]
  },
  {
   "cell_type": "markdown",
   "metadata": {},
   "source": [
    "**Загрузим датасет и посмотрим на него**"
   ]
  },
  {
   "cell_type": "code",
   "execution_count": 3,
   "metadata": {},
   "outputs": [
    {
     "data": {
      "image/png": "[encoded data removed]",
      "text/plain": [
       "<Figure size 432x288 with 1 Axes>"
      ]
     },
     "metadata": {
      "needs_background": "light"
     },
     "output_type": "display_data"
    },
    {
     "name": "stdout",
     "output_type": "stream",
     "text": [
      "<class 'pandas.core.frame.DataFrame'>\n",
      "RangeIndex: 157723 entries, 0 to 157722\n",
      "Data columns (total 2 columns):\n",
      " #   Column  Non-Null Count   Dtype \n",
      "---  ------  --------------   ----- \n",
      " 0   text    157722 non-null  object\n",
      " 1   tags    157723 non-null  object\n",
      "dtypes: object(2)\n",
      "memory usage: 2.4+ MB\n"
     ]
    },
    {
     "data": {
      "text/html": [
       "<div>\n",
       "<style scoped>\n",
       "    .dataframe tbody tr th:only-of-type {\n",
       "        vertical-align: middle;\n",
       "    }\n",
       "\n",
       "    .dataframe tbody tr th {\n",
       "        vertical-align: top;\n",
       "    }\n",
       "\n",
       "    .dataframe thead th {\n",
       "        text-align: right;\n",
       "    }\n",
       "</style>\n",
       "<table border=\"1\" class=\"dataframe\">\n",
       "  <thead>\n",
       "    <tr style=\"text-align: right;\">\n",
       "      <th></th>\n",
       "      <th>text</th>\n",
       "      <th>tags</th>\n",
       "    </tr>\n",
       "  </thead>\n",
       "  <tbody>\n",
       "    <tr>\n",
       "      <th>0</th>\n",
       "      <td>Американского актера Уэсли Снайпса в четверг п...</td>\n",
       "      <td>Кино</td>\n",
       "    </tr>\n",
       "    <tr>\n",
       "      <th>1</th>\n",
       "      <td>Власти одного из районов столицы Южной Кореи з...</td>\n",
       "      <td>Общество</td>\n",
       "    </tr>\n",
       "    <tr>\n",
       "      <th>2</th>\n",
       "      <td>\"Федеральная пассажирская компания\", входящая ...</td>\n",
       "      <td>Бизнес</td>\n",
       "    </tr>\n",
       "    <tr>\n",
       "      <th>3</th>\n",
       "      <td>Вечером 26 ноября 2012 года из Москвы в Хельси...</td>\n",
       "      <td>Бизнес</td>\n",
       "    </tr>\n",
       "    <tr>\n",
       "      <th>4</th>\n",
       "      <td>В Махачкале в четверг, 27 декабря, был задержа...</td>\n",
       "      <td>Политика</td>\n",
       "    </tr>\n",
       "    <tr>\n",
       "      <th>...</th>\n",
       "      <td>...</td>\n",
       "      <td>...</td>\n",
       "    </tr>\n",
       "    <tr>\n",
       "      <th>157718</th>\n",
       "      <td>YouTube назвал самые популярные музыкальные кл...</td>\n",
       "      <td>Музыка</td>\n",
       "    </tr>\n",
       "    <tr>\n",
       "      <th>157719</th>\n",
       "      <td>Ученые из Колледжа врачей и хирургов при Колум...</td>\n",
       "      <td>Наука</td>\n",
       "    </tr>\n",
       "    <tr>\n",
       "      <th>157720</th>\n",
       "      <td>Белоруссия возьмет у Китая кредит на 3,5 милли...</td>\n",
       "      <td>Госэкономика</td>\n",
       "    </tr>\n",
       "    <tr>\n",
       "      <th>157721</th>\n",
       "      <td>Испытание США ранее запрещенной Договором о ли...</td>\n",
       "      <td>Политика</td>\n",
       "    </tr>\n",
       "    <tr>\n",
       "      <th>157722</th>\n",
       "      <td>В ближайшие дни в европейской части России пог...</td>\n",
       "      <td>Общество</td>\n",
       "    </tr>\n",
       "  </tbody>\n",
       "</table>\n",
       "<p>157723 rows × 2 columns</p>\n",
       "</div>"
      ],
      "text/plain": [
       "                                                     text          tags\n",
       "0       Американского актера Уэсли Снайпса в четверг п...          Кино\n",
       "1       Власти одного из районов столицы Южной Кореи з...      Общество\n",
       "2       \"Федеральная пассажирская компания\", входящая ...        Бизнес\n",
       "3       Вечером 26 ноября 2012 года из Москвы в Хельси...        Бизнес\n",
       "4       В Махачкале в четверг, 27 декабря, был задержа...      Политика\n",
       "...                                                   ...           ...\n",
       "157718  YouTube назвал самые популярные музыкальные кл...        Музыка\n",
       "157719  Ученые из Колледжа врачей и хирургов при Колум...         Наука\n",
       "157720  Белоруссия возьмет у Китая кредит на 3,5 милли...  Госэкономика\n",
       "157721  Испытание США ранее запрещенной Договором о ли...      Политика\n",
       "157722  В ближайшие дни в европейской части России пог...      Общество\n",
       "\n",
       "[157723 rows x 2 columns]"
      ]
     },
     "metadata": {},
     "output_type": "display_data"
    }
   ],
   "source": [
    "df_news = pd.read_csv('data/lenta-ru-news.csv', usecols=[\"text\", \"tags\"])\n",
    "# Включим только те теги, которые проставлены более 6000 раз\n",
    "df_news = df_news[df_news['tags'].map(df_news['tags'].value_counts()) >= 6000]\n",
    "df_news.reset_index(inplace=True, drop=True)\n",
    "plt.plot(df_news[\"tags\"].value_counts())\n",
    "plt.xticks(rotation=90, fontsize=15)\n",
    "plt.title(\"Распределение тегов\")\n",
    "plt.show()\n",
    "# Отобразим df\n",
    "df_news.info()\n",
    "display(df_news)"
   ]
  },
  {
   "cell_type": "markdown",
   "metadata": {},
   "source": [
    "**Добавим индексы классов**"
   ]
  },
  {
   "cell_type": "code",
   "execution_count": 4,
   "metadata": {},
   "outputs": [
    {
     "data": {
      "text/html": [
       "<div>\n",
       "<style scoped>\n",
       "    .dataframe tbody tr th:only-of-type {\n",
       "        vertical-align: middle;\n",
       "    }\n",
       "\n",
       "    .dataframe tbody tr th {\n",
       "        vertical-align: top;\n",
       "    }\n",
       "\n",
       "    .dataframe thead th {\n",
       "        text-align: right;\n",
       "    }\n",
       "</style>\n",
       "<table border=\"1\" class=\"dataframe\">\n",
       "  <thead>\n",
       "    <tr style=\"text-align: right;\">\n",
       "      <th></th>\n",
       "      <th>text</th>\n",
       "      <th>tags</th>\n",
       "      <th>tag_idx</th>\n",
       "      <th>tag</th>\n",
       "    </tr>\n",
       "  </thead>\n",
       "  <tbody>\n",
       "    <tr>\n",
       "      <th>0</th>\n",
       "      <td>Американского актера Уэсли Снайпса в четверг п...</td>\n",
       "      <td>Кино</td>\n",
       "      <td>4</td>\n",
       "      <td>Кино</td>\n",
       "    </tr>\n",
       "    <tr>\n",
       "      <th>1</th>\n",
       "      <td>Режиссер Сэм Мендес, снявший \"007: Координаты ...</td>\n",
       "      <td>Кино</td>\n",
       "      <td>4</td>\n",
       "      <td>Кино</td>\n",
       "    </tr>\n",
       "    <tr>\n",
       "      <th>2</th>\n",
       "      <td>Кинокомпания Warner Bros. снимет фильм о жизни...</td>\n",
       "      <td>Кино</td>\n",
       "      <td>4</td>\n",
       "      <td>Кино</td>\n",
       "    </tr>\n",
       "    <tr>\n",
       "      <th>3</th>\n",
       "      <td>Австралийская певица Кайли Миноуг решила покин...</td>\n",
       "      <td>Кино</td>\n",
       "      <td>4</td>\n",
       "      <td>Кино</td>\n",
       "    </tr>\n",
       "    <tr>\n",
       "      <th>4</th>\n",
       "      <td>Телеканал NBC заказал съемки пилотного эпизода...</td>\n",
       "      <td>Кино</td>\n",
       "      <td>4</td>\n",
       "      <td>Кино</td>\n",
       "    </tr>\n",
       "  </tbody>\n",
       "</table>\n",
       "</div>"
      ],
      "text/plain": [
       "                                                text  tags  tag_idx   tag\n",
       "0  Американского актера Уэсли Снайпса в четверг п...  Кино        4  Кино\n",
       "1  Режиссер Сэм Мендес, снявший \"007: Координаты ...  Кино        4  Кино\n",
       "2  Кинокомпания Warner Bros. снимет фильм о жизни...  Кино        4  Кино\n",
       "3  Австралийская певица Кайли Миноуг решила покин...  Кино        4  Кино\n",
       "4  Телеканал NBC заказал съемки пилотного эпизода...  Кино        4  Кино"
      ]
     },
     "execution_count": 4,
     "metadata": {},
     "output_type": "execute_result"
    }
   ],
   "source": [
    "classes = pd.DataFrame()\n",
    "classes = df_news.tags.value_counts()\n",
    "classes = classes.reset_index(inplace=False, drop=False)\n",
    "classes = classes.rename(columns={'index': 'tag'})\n",
    "classes = classes.reset_index(inplace=False, drop=False)\n",
    "classes = classes.rename(columns={'index': 'tag_idx'})\n",
    "classes.drop('tags', axis=1, inplace=True)\n",
    "df_news = df_news.merge(classes, left_on='tags', right_on='tag')\n",
    "df_news.head()"
   ]
  },
  {
   "cell_type": "markdown",
   "metadata": {},
   "source": [
    "**Удалим спецсимволы и приведем к нижнему регистру**"
   ]
  },
  {
   "cell_type": "code",
   "execution_count": 5,
   "metadata": {},
   "outputs": [
    {
     "data": {
      "text/html": [
       "<div>\n",
       "<style scoped>\n",
       "    .dataframe tbody tr th:only-of-type {\n",
       "        vertical-align: middle;\n",
       "    }\n",
       "\n",
       "    .dataframe tbody tr th {\n",
       "        vertical-align: top;\n",
       "    }\n",
       "\n",
       "    .dataframe thead th {\n",
       "        text-align: right;\n",
       "    }\n",
       "</style>\n",
       "<table border=\"1\" class=\"dataframe\">\n",
       "  <thead>\n",
       "    <tr style=\"text-align: right;\">\n",
       "      <th></th>\n",
       "      <th>text</th>\n",
       "      <th>tags</th>\n",
       "      <th>tag_idx</th>\n",
       "      <th>tag</th>\n",
       "      <th>text_cleaned</th>\n",
       "    </tr>\n",
       "  </thead>\n",
       "  <tbody>\n",
       "    <tr>\n",
       "      <th>157718</th>\n",
       "      <td>Определились все 16 участников плей-офф Лиги ч...</td>\n",
       "      <td>Футбол</td>\n",
       "      <td>3</td>\n",
       "      <td>Футбол</td>\n",
       "      <td>определились 16 участников плей-офф лиги чемпи...</td>\n",
       "    </tr>\n",
       "    <tr>\n",
       "      <th>157719</th>\n",
       "      <td>Анна Семак, жена главного тренера петербургско...</td>\n",
       "      <td>Футбол</td>\n",
       "      <td>3</td>\n",
       "      <td>Футбол</td>\n",
       "      <td>анна семак жена главного тренера петербургског...</td>\n",
       "    </tr>\n",
       "    <tr>\n",
       "      <th>157720</th>\n",
       "      <td>Президент московского ЦСКА Евгений Гинер отстр...</td>\n",
       "      <td>Футбол</td>\n",
       "      <td>3</td>\n",
       "      <td>Футбол</td>\n",
       "      <td>президент московского цска евгений гинер отстр...</td>\n",
       "    </tr>\n",
       "    <tr>\n",
       "      <th>157721</th>\n",
       "      <td>Элизабет Борель, проживающая в одном районе с ...</td>\n",
       "      <td>Футбол</td>\n",
       "      <td>3</td>\n",
       "      <td>Футбол</td>\n",
       "      <td>элизабет борель проживающая одном районе напад...</td>\n",
       "    </tr>\n",
       "    <tr>\n",
       "      <th>157722</th>\n",
       "      <td>Российские футбольные клубы впервые за 18 лет ...</td>\n",
       "      <td>Футбол</td>\n",
       "      <td>3</td>\n",
       "      <td>Футбол</td>\n",
       "      <td>российские футбольные клубы впервые 18 лет сыг...</td>\n",
       "    </tr>\n",
       "  </tbody>\n",
       "</table>\n",
       "</div>"
      ],
      "text/plain": [
       "                                                     text    tags  tag_idx  \\\n",
       "157718  Определились все 16 участников плей-офф Лиги ч...  Футбол        3   \n",
       "157719  Анна Семак, жена главного тренера петербургско...  Футбол        3   \n",
       "157720  Президент московского ЦСКА Евгений Гинер отстр...  Футбол        3   \n",
       "157721  Элизабет Борель, проживающая в одном районе с ...  Футбол        3   \n",
       "157722  Российские футбольные клубы впервые за 18 лет ...  Футбол        3   \n",
       "\n",
       "           tag                                       text_cleaned  \n",
       "157718  Футбол  определились 16 участников плей-офф лиги чемпи...  \n",
       "157719  Футбол  анна семак жена главного тренера петербургског...  \n",
       "157720  Футбол  президент московского цска евгений гинер отстр...  \n",
       "157721  Футбол  элизабет борель проживающая одном районе напад...  \n",
       "157722  Футбол  российские футбольные клубы впервые 18 лет сыг...  "
      ]
     },
     "execution_count": 5,
     "metadata": {},
     "output_type": "execute_result"
    }
   ],
   "source": [
    "def clean_text(text: str) -> str:\n",
    "    \"\"\"Очистить текст\n",
    "\n",
    "    Аргументы:\n",
    "        - text (str) - Текст документа\n",
    "\n",
    "    Возвращает:\n",
    "        str - очищенный регулярками replace_by_space_re, bad_symbols_re текст\n",
    "    \"\"\"\n",
    "\n",
    "    replace_by_space_re = re.compile(r'[/(){}\\[\\]\\|@,;:]')\n",
    "    bad_symbols_re = re.compile(r'[#+_\"\"'']')\n",
    "\n",
    "    # Заменяем символы replace_by_space_re на пробел\n",
    "    text = replace_by_space_re.sub(' ', str(text))\n",
    "    # Удаление символов bad_symbols_re\n",
    "    text = bad_symbols_re.sub(' ', str(text))\n",
    "    # Приводим к нижнему регистру\n",
    "    text = text.lower()\n",
    "    # Удаляем стоп слова\n",
    "    text = ' '.join(word for word in text.split() if word not in nltk_stopwords)\n",
    "\n",
    "    return text\n",
    "\n",
    "\n",
    "df_news['text_cleaned'] = df_news['text'].apply(clean_text)\n",
    "df_news.dropna()\n",
    "df_news.tail()"
   ]
  },
  {
   "cell_type": "markdown",
   "metadata": {},
   "source": [
    "**Объявим переменные**"
   ]
  },
  {
   "cell_type": "code",
   "execution_count": 6,
   "metadata": {},
   "outputs": [],
   "source": [
    "if not os.path.exists(os.path.join(CUR_DIR, 'tf_models')):\n",
    "    os.makedirs(os.path.join(CUR_DIR, 'tf_models'))\n",
    "\n",
    "# Максимальное количество используемух слов (по частоте)\n",
    "MAX_NB_WORDS = 100000\n",
    "# Максимальное количество слов в документе\n",
    "MAX_SEQUENCE_LENGTH = 200\n",
    "# Размер эмбеддинга - длина вектора для каждого слова\n",
    "EMBEDDING_DIM = 300\n",
    "EPOCHS = 25\n",
    "BATCH_SIZE = 64\n",
    "MODEL_LSTM_SAVE_PATH = r'tf_models/best_lstm_classificator'\n",
    "HISTORY_LSTM_SAVE_PATH = r'tf_models/history_lstm_classificator'\n",
    "TOKENIZER_SAVE_PATH = r'tf_models/tokenizer.pickle'"
   ]
  },
  {
   "cell_type": "markdown",
   "metadata": {},
   "source": [
    "**Токенайзер**"
   ]
  },
  {
   "cell_type": "code",
   "execution_count": 7,
   "metadata": {},
   "outputs": [
    {
     "name": "stdout",
     "output_type": "stream",
     "text": [
      "Найдено 586698 уникальных токенов.\n"
     ]
    }
   ],
   "source": [
    "tokenizer = Tokenizer(\n",
    "    num_words=MAX_NB_WORDS,\n",
    "    filters=r'!\"#$%&()*+,-./:;<=>?@[\\]^_`{|}~',\n",
    "    lower=True\n",
    ")\n",
    "\n",
    "tokenizer.fit_on_texts(df_news['text_cleaned'].values)\n",
    "# сохраняем токенайзер\n",
    "with open(TOKENIZER_SAVE_PATH, 'wb') as handle:\n",
    "    pickle.dump(tokenizer, handle, protocol=pickle.HIGHEST_PROTOCOL)\n",
    "word_index = tokenizer.word_index\n",
    "print('Найдено %s уникальных токенов.' % len(word_index))"
   ]
  },
  {
   "cell_type": "markdown",
   "metadata": {},
   "source": [
    "**Токенизируем тексты**"
   ]
  },
  {
   "cell_type": "code",
   "execution_count": 8,
   "metadata": {},
   "outputs": [
    {
     "name": "stdout",
     "output_type": "stream",
     "text": [
      "Размер тензора с векторами документов: (157723, 200)\n",
      "Предлжение: режиссер сэм мендес снявший 007 координаты 'скайфолл' станет исполнительным продюсером сериала penny dreadful. передает deadline объявил глава кабельного канала showtime network дэвид невинс. производством проекта заниматься компания neal street productions которая принадлежит мендесу. помимо продюсировать сериал будут джон логан сценарист 007 координаты 'скайфолл' пиппа харрис - партнер мендеса nsp. deadline отмечает логан также работать сценарием сериала. глава showtime также выразил надежду мендес непосредственно руководить съемками сериала однако твердой договоренности этому вопросу пока нет. penny dreadful описывается психосексуальный хоррор действие которого разворачиваться лондоне xix века. героями сериала станут такие известные персонажи дракула доктор франкенштейн чудовище также дориан грей. дэвид невинс пообещал телешоу скорее реалистичным психологически достоверным выдержанным стиле фильма белой лугоши речь идет классической экранизации дракулы снятой 1931 году . пишет dreadline съемки должны начаться лондоне второй половине 2013 года. 007 координаты 'скайфолл' является последним сегодняшний момент фильмом который снял оскароносец сэм мендес. последняя часть бондианы вышла прокат конце октября. вскоре кинолента признана самым финансово успешным фильмом агента 007 истории франшизы - конце декабря касса превысила миллиард долларов.\n",
      "Токенизированное предложение: [    0     0     0     0     0     0     0     0     0     0     0     0\n",
      "     0     0     0     0     0     0     0     0     0     0     0     0\n",
      "     0     0     0     0     0     0     0     0     0     0     0     0\n",
      "     0     0     0     0     0     0     0     0     0     0     0     0\n",
      "     0     0     0     0     0     0     0     0     0   636 13477 29994\n",
      " 15608 20365 13275   385 17255  5924  1088    55  7092   454    30 37535\n",
      "  2143 18579 17915  2064  6695   341  1637   143  3261 32103    65  1332\n",
      "   358 39920  2054    38   974 38439  6503 20365 13275 92085 13773  6158\n",
      " 52413  7092   205 38439     4   561 13876  1088    30 18579     4   559\n",
      "  1944 29994  3588 12143 21188  1088    19 40441  2672   519  1309    98\n",
      "   875 22976 21078  1119   128 25563  1832  7834  2107 11891  1088  2365\n",
      "   333  5454 10227  5606 47421     4 25333  2064   735  7157  1421 56587\n",
      " 34354 92086  7361   365 13098   337   287 14452  9461 31764 25759     5\n",
      "   151  1822   145  5905  1832   261  3290    66     2 20365 13275    46\n",
      "  1726  2035   187  3275    15  2736 13477 29994  3208   181 18488  1293\n",
      "  1547   161    70  1190 32104  5099   635  8809 12762  3275  5070 20365\n",
      "   443  4398   161    80 46671  7065  2775    22]\n",
      "Размер тензора с векторами классов: (157723, 10)\n",
      "One-hot encoded классы: [[0 0 0 ... 0 0 0]\n",
      " [0 0 0 ... 0 0 0]\n",
      " [0 0 0 ... 0 0 0]\n",
      " ...\n",
      " [0 0 0 ... 0 0 0]\n",
      " [0 0 0 ... 0 0 0]\n",
      " [0 0 0 ... 0 0 0]]\n"
     ]
    }
   ],
   "source": [
    "X = tokenizer.texts_to_sequences(df_news['text_cleaned'].values)\n",
    "X = pad_sequences(X, maxlen=MAX_SEQUENCE_LENGTH)\n",
    "print('Размер тензора с векторами документов:', X.shape)\n",
    "\n",
    "print(f\"Предлжение: {df_news['text_cleaned'].values[1]}\")\n",
    "print(f\"Токенизированное предложение: {X[1]}\")\n",
    "# Применяем one-hot encoding, получаем разреженную матрицу из n колонок,\n",
    "# где n - количество классов, где во всех позициях нули, кроме позиции класса - 1\n",
    "Y = pd.get_dummies(df_news['tag_idx']).values\n",
    "print('Размер тензора с векторами классов:', Y.shape)\n",
    "print(f\"One-hot encoded классы: {Y}\")"
   ]
  },
  {
   "cell_type": "markdown",
   "metadata": {},
   "source": [
    "**Разделяем данные на train и test**"
   ]
  },
  {
   "cell_type": "code",
   "execution_count": 9,
   "metadata": {},
   "outputs": [
    {
     "name": "stdout",
     "output_type": "stream",
     "text": [
      "(134064, 200) (134064, 10)\n",
      "(23659, 200) (23659, 10)\n",
      "Количестко классов :10\n"
     ]
    }
   ],
   "source": [
    "X_train, X_test, Y_train, Y_test = train_test_split(\n",
    "    X,\n",
    "    Y,\n",
    "    test_size=0.15,\n",
    "    random_state=SEED,\n",
    "    stratify=Y\n",
    ")\n",
    "print(X_train.shape, Y_train.shape)\n",
    "print(X_test.shape, Y_test.shape)\n",
    "\n",
    "classes_count = df_news['tag_idx'].value_counts().shape[0]\n",
    "print(f'Количестко классов :{classes_count}')"
   ]
  },
  {
   "cell_type": "markdown",
   "metadata": {},
   "source": [
    "**Определяем модель**"
   ]
  },
  {
   "cell_type": "code",
   "execution_count": 10,
   "metadata": {},
   "outputs": [
    {
     "name": "stdout",
     "output_type": "stream",
     "text": [
      "Model: \"sequential\"\n",
      "_________________________________________________________________\n",
      " Layer (type)                Output Shape              Param #   \n",
      "=================================================================\n",
      " embedding (Embedding)       (None, 200, 300)          30000000  \n",
      "                                                                 \n",
      " dropout (Dropout)           (None, 200, 300)          0         \n",
      "                                                                 \n",
      " lstm (LSTM)                 (None, 300)               721200    \n",
      "                                                                 \n",
      " dropout_1 (Dropout)         (None, 300)               0         \n",
      "                                                                 \n",
      " dense (Dense)               (None, 10)                3010      \n",
      "                                                                 \n",
      "=================================================================\n",
      "Total params: 30,724,210\n",
      "Trainable params: 30,724,210\n",
      "Non-trainable params: 0\n",
      "_________________________________________________________________\n",
      "None\n"
     ]
    }
   ],
   "source": [
    "optimizer = Adam(learning_rate=0.001)\n",
    "model_lstm = Sequential()\n",
    "model_lstm.add(Embedding(MAX_NB_WORDS, EMBEDDING_DIM, input_length=X.shape[1]))  # input_length - длина входной последовательности pylint: disable=line-too-long\n",
    "model_lstm.add(Dropout(0.3))\n",
    "model_lstm.add(LSTM(EMBEDDING_DIM))  # dropout=0.2, recurrent_dropout=0.2\n",
    "model_lstm.add(Dropout(0.3))\n",
    "model_lstm.add(Dense(classes_count, activation='softmax'))\n",
    "model_lstm.compile(\n",
    "    loss='categorical_crossentropy',\n",
    "    optimizer=optimizer,\n",
    "    metrics=[\n",
    "        metrics.Precision(),\n",
    "        metrics.Recall(),\n",
    "        'categorical_accuracy'\n",
    "    ]\n",
    ")\n",
    "\n",
    "print(model_lstm.summary())"
   ]
  },
  {
   "cell_type": "markdown",
   "metadata": {},
   "source": [
    "**Определяем callback'и и обучаем модель**"
   ]
  },
  {
   "cell_type": "code",
   "execution_count": 11,
   "metadata": {},
   "outputs": [
    {
     "name": "stdout",
     "output_type": "stream",
     "text": [
      "Epoch 1/25\n",
      "1676/1676 [==============================] - ETA: 0s - loss: 0.8918 - precision: 0.8100 - recall: 0.6186 - categorical_accuracy: 0.7046\n",
      "Epoch 1: val_loss improved from inf to 0.55016, saving model to tf_models\\best_lstm_classificator\n"
     ]
    },
    {
     "name": "stderr",
     "output_type": "stream",
     "text": [
      "WARNING:absl:Found untraced functions such as lstm_cell_layer_call_fn, lstm_cell_layer_call_and_return_conditional_losses while saving (showing 2 of 2). These functions will not be directly callable after loading.\n"
     ]
    },
    {
     "name": "stdout",
     "output_type": "stream",
     "text": [
      "INFO:tensorflow:Assets written to: tf_models\\best_lstm_classificator\\assets\n"
     ]
    },
    {
     "name": "stderr",
     "output_type": "stream",
     "text": [
      "INFO:tensorflow:Assets written to: tf_models\\best_lstm_classificator\\assets\n",
      "WARNING:absl:<keras.layers.recurrent.LSTMCell object at 0x000001CE80034D60> has the same name 'LSTMCell' as a built-in Keras object. Consider renaming <class 'keras.layers.recurrent.LSTMCell'> to avoid naming conflicts when loading with `tf.keras.models.load_model`. If renaming is not possible, pass the object in the `custom_objects` parameter of the load function.\n"
     ]
    },
    {
     "name": "stdout",
     "output_type": "stream",
     "text": [
      "1676/1676 [==============================] - 3236s 2s/step - loss: 0.8918 - precision: 0.8100 - recall: 0.6186 - categorical_accuracy: 0.7046 - val_loss: 0.5502 - val_precision: 0.8554 - val_recall: 0.7988 - val_categorical_accuracy: 0.8267\n",
      "Epoch 2/25\n",
      "1676/1676 [==============================] - ETA: 0s - loss: 0.4163 - precision: 0.8897 - recall: 0.8497 - categorical_accuracy: 0.8696\n",
      "Epoch 2: val_loss improved from 0.55016 to 0.46004, saving model to tf_models\\best_lstm_classificator\n"
     ]
    },
    {
     "name": "stderr",
     "output_type": "stream",
     "text": [
      "WARNING:absl:Found untraced functions such as lstm_cell_layer_call_fn, lstm_cell_layer_call_and_return_conditional_losses while saving (showing 2 of 2). These functions will not be directly callable after loading.\n"
     ]
    },
    {
     "name": "stdout",
     "output_type": "stream",
     "text": [
      "INFO:tensorflow:Assets written to: tf_models\\best_lstm_classificator\\assets\n"
     ]
    },
    {
     "name": "stderr",
     "output_type": "stream",
     "text": [
      "INFO:tensorflow:Assets written to: tf_models\\best_lstm_classificator\\assets\n",
      "WARNING:absl:<keras.layers.recurrent.LSTMCell object at 0x000001CE80034D60> has the same name 'LSTMCell' as a built-in Keras object. Consider renaming <class 'keras.layers.recurrent.LSTMCell'> to avoid naming conflicts when loading with `tf.keras.models.load_model`. If renaming is not possible, pass the object in the `custom_objects` parameter of the load function.\n"
     ]
    },
    {
     "name": "stdout",
     "output_type": "stream",
     "text": [
      "1676/1676 [==============================] - 2607s 2s/step - loss: 0.4163 - precision: 0.8897 - recall: 0.8497 - categorical_accuracy: 0.8696 - val_loss: 0.4600 - val_precision: 0.8670 - val_recall: 0.8247 - val_categorical_accuracy: 0.8462\n",
      "Epoch 3/25\n",
      "1676/1676 [==============================] - ETA: 0s - loss: 0.2297 - precision: 0.9387 - recall: 0.9210 - categorical_accuracy: 0.9290\n",
      "Epoch 3: val_loss did not improve from 0.46004\n",
      "1676/1676 [==============================] - 2805s 2s/step - loss: 0.2297 - precision: 0.9387 - recall: 0.9210 - categorical_accuracy: 0.9290 - val_loss: 0.5147 - val_precision: 0.8560 - val_recall: 0.8306 - val_categorical_accuracy: 0.8414\n",
      "Epoch 4/25\n",
      "1676/1676 [==============================] - ETA: 0s - loss: 0.1070 - precision: 0.9723 - recall: 0.9655 - categorical_accuracy: 0.9686\n",
      "Epoch 4: val_loss did not improve from 0.46004\n",
      "1676/1676 [==============================] - 2732s 2s/step - loss: 0.1070 - precision: 0.9723 - recall: 0.9655 - categorical_accuracy: 0.9686 - val_loss: 0.6432 - val_precision: 0.8460 - val_recall: 0.8297 - val_categorical_accuracy: 0.8368\n",
      "Epoch 5/25\n",
      "1676/1676 [==============================] - ETA: 0s - loss: 0.0518 - precision: 0.9865 - recall: 0.9834 - categorical_accuracy: 0.9848\n",
      "Epoch 5: val_loss did not improve from 0.46004\n",
      "1676/1676 [==============================] - 2743s 2s/step - loss: 0.0518 - precision: 0.9865 - recall: 0.9834 - categorical_accuracy: 0.9848 - val_loss: 0.7987 - val_precision: 0.8432 - val_recall: 0.8327 - val_categorical_accuracy: 0.8371\n",
      "Epoch 6/25\n",
      "1676/1676 [==============================] - ETA: 0s - loss: 0.0277 - precision: 0.9927 - recall: 0.9915 - categorical_accuracy: 0.9920\n",
      "Epoch 6: val_loss did not improve from 0.46004\n",
      "1676/1676 [==============================] - 2714s 2s/step - loss: 0.0277 - precision: 0.9927 - recall: 0.9915 - categorical_accuracy: 0.9920 - val_loss: 0.8350 - val_precision: 0.8401 - val_recall: 0.8293 - val_categorical_accuracy: 0.8343\n"
     ]
    }
   ],
   "source": [
    "checkpoint_callback_lstm = ModelCheckpoint(\n",
    "    MODEL_LSTM_SAVE_PATH,\n",
    "    monitor='val_loss',\n",
    "    save_best_only=True,\n",
    "    save_weights_only=False,\n",
    "    verbose=1\n",
    ")\n",
    "\n",
    "early_stopping_callback = EarlyStopping(\n",
    "    monitor='val_loss',\n",
    "    patience=4,\n",
    "    min_delta=0.001\n",
    ")\n",
    "\n",
    "history = model_lstm.fit(\n",
    "    X_train,\n",
    "    Y_train,\n",
    "    epochs=EPOCHS,\n",
    "    batch_size=BATCH_SIZE,\n",
    "    validation_split=0.2,\n",
    "    callbacks=[early_stopping_callback, checkpoint_callback_lstm]\n",
    ")\n",
    "# Сохраним историю обучания\n",
    "with open(HISTORY_LSTM_SAVE_PATH, 'wb') as handle:\n",
    "    pickle.dump(history.history, handle)\n",
    "# Завершить обучение\n",
    "clear_session()"
   ]
  },
  {
   "cell_type": "markdown",
   "metadata": {},
   "source": [
    "# Тестирование"
   ]
  },
  {
   "cell_type": "markdown",
   "metadata": {},
   "source": [
    "**Загрузим историю обучения, токенайзер и модель**"
   ]
  },
  {
   "cell_type": "code",
   "execution_count": 12,
   "metadata": {},
   "outputs": [
    {
     "name": "stdout",
     "output_type": "stream",
     "text": [
      "740/740 [==============================] - 325s 438ms/step - loss: 0.4642 - precision: 0.8685 - recall: 0.8251 - categorical_accuracy: 0.8467\n",
      "Тестовый набор: \n",
      " \tloss: 0.464\n",
      " \tprecision: 0.868\n",
      " \trecall: 0.825\n",
      " \tcategorical_accuracy: 0.847\n"
     ]
    }
   ],
   "source": [
    "# Загружаем сохраненный токенайзер\n",
    "with open(TOKENIZER_SAVE_PATH, 'rb') as handle:\n",
    "    tokenizer = pickle.load(handle)\n",
    "\n",
    "# Загружаем историю обучения\n",
    "with open(HISTORY_LSTM_SAVE_PATH, 'rb') as handle:\n",
    "    history = pickle.load(handle)\n",
    "\n",
    "# Загружаем сохраненную модель\n",
    "lstm_model = models.load_model(MODEL_LSTM_SAVE_PATH)\n",
    "accr = lstm_model.evaluate(X_test, Y_test)\n",
    "\n",
    "# Смотрим показатели loss и метрик на тестовых данных\n",
    "print(\n",
    "    'Тестовый набор: \\n \\tloss: {:0.3f}\\n \\tprecision: {:0.3f}\\n \\trecall: {:0.3f}\\n \\tcategorical_accuracy: {:0.3f}'.format(\n",
    "        accr[0],\n",
    "        accr[1],\n",
    "        accr[2],\n",
    "        accr[3]\n",
    "    )\n",
    ")"
   ]
  },
  {
   "cell_type": "markdown",
   "metadata": {},
   "source": [
    "**Печатаем изменение лосса и метрик в процессе обучения**"
   ]
  },
  {
   "cell_type": "code",
   "execution_count": 13,
   "metadata": {},
   "outputs": [
    {
     "data": {
      "image/png": "[encoded data removed]",
      "text/plain": [
       "<Figure size 432x288 with 1 Axes>"
      ]
     },
     "metadata": {
      "needs_background": "light"
     },
     "output_type": "display_data"
    },
    {
     "data": {
      "image/png": "[encoded data removed]",
      "text/plain": [
       "<Figure size 432x288 with 1 Axes>"
      ]
     },
     "metadata": {
      "needs_background": "light"
     },
     "output_type": "display_data"
    },
    {
     "data": {
      "image/png": "[encoded data removed]",
      "text/plain": [
       "<Figure size 432x288 with 1 Axes>"
      ]
     },
     "metadata": {
      "needs_background": "light"
     },
     "output_type": "display_data"
    },
    {
     "data": {
      "image/png": "[encoded data removed]",
      "text/plain": [
       "<Figure size 432x288 with 1 Axes>"
      ]
     },
     "metadata": {
      "needs_background": "light"
     },
     "output_type": "display_data"
    }
   ],
   "source": [
    "def print_plot_by_epoches(model_history: Any) -> None:\n",
    "    \"\"\"Напечатать поведение лосса и метрик по эпохам\n",
    "\n",
    "    Аргументы:\n",
    "        - history_lstm (Any) - история обучения модели\n",
    "    \"\"\"\n",
    "    plt.title('Loss')\n",
    "    plt.plot(model_history['loss'], label='train')\n",
    "    plt.plot(model_history['val_loss'], label='test')\n",
    "    plt.legend()\n",
    "    plt.show()\n",
    "\n",
    "    plt.title('Prescision')\n",
    "    plt.plot(model_history['precision'], label='train')\n",
    "    plt.plot(model_history['val_precision'], label='test')\n",
    "    plt.legend()\n",
    "    plt.show()\n",
    "\n",
    "    plt.title('Recall')\n",
    "    plt.plot(model_history['recall'], label='train')\n",
    "    plt.plot(model_history['val_recall'], label='test')\n",
    "    plt.legend()\n",
    "    plt.show()\n",
    "\n",
    "    plt.title('Categorical accuracy')\n",
    "    plt.plot(model_history['categorical_accuracy'], label='train')\n",
    "    plt.plot(model_history['val_categorical_accuracy'], label='test')\n",
    "    plt.legend()\n",
    "    plt.show()\n",
    "\n",
    "\n",
    "print_plot_by_epoches(history)"
   ]
  },
  {
   "cell_type": "markdown",
   "metadata": {},
   "source": [
    "**Печать отчета по модели**"
   ]
  },
  {
   "cell_type": "code",
   "execution_count": 14,
   "metadata": {},
   "outputs": [],
   "source": [
    "def get_classification_report(model: Any, x_test: np.ndarray, y_test: np.ndarray) -> None:\n",
    "    \"\"\"Напечатать отчет классификации тестовых данных\n",
    "\n",
    "    Аргументы:\n",
    "        - lstm_model (Any) - Модель классификатор\n",
    "        - x_test (np.ndarray) - Признаки\n",
    "        - y_test (np.ndarray) - Искомые классы\n",
    "    \"\"\"\n",
    "    classificated_by_lstm = model.predict(x_test)\n",
    "    df_predicted = pd.DataFrame(classificated_by_lstm)\n",
    "    df_test = pd.DataFrame(y_test)\n",
    "    # Получаем предсказанные тег\n",
    "    df_predicted['class'] = df_predicted.idxmax(axis=1)\n",
    "    # Получаем реальные теги\n",
    "    df_test['class'] = df_test.idxmax(axis=1)\n",
    "    df = pd.DataFrame()\n",
    "    df['class_real'] = df_test['class']\n",
    "    df['class_predicted'] = df_predicted['class']\n",
    "\n",
    "    report = classification_report(\n",
    "        y_true=df['class_real'],\n",
    "        y_pred=df['class_predicted'],\n",
    "        output_dict=True\n",
    "    )\n",
    "\n",
    "    if not os.path.exists(os.path.join(CUR_DIR, 'excel')):\n",
    "        os.makedirs(os.path.join(CUR_DIR, 'excel'))\n",
    "    df_report = pd.DataFrame(report).transpose()\n",
    "    df_report.to_excel(\n",
    "        'excel/classification_report_lstm.xlsx',\n",
    "        index=True\n",
    "    )\n",
    "    return df\n",
    "\n",
    "df_final = get_classification_report(lstm_model, X_test, Y_test)\n",
    "\n",
    "# Посмотреть как отработал классификатор на тестовых данных\n",
    "# display(df_final[df_final['class_predicted'] == df_final['class_real']])\n",
    "# display(df_final[df_final['class_predicted'] != df_final['class_real']])"
   ]
  },
  {
   "cell_type": "markdown",
   "metadata": {},
   "source": [
    "**Получить тег для текста**"
   ]
  },
  {
   "cell_type": "code",
   "execution_count": 21,
   "metadata": {},
   "outputs": [
    {
     "name": "stdout",
     "output_type": "stream",
     "text": [
      "Наука\n"
     ]
    }
   ],
   "source": [
    "def get_tag(input_text: List[str]) -> None:\n",
    "    \"\"\"Предсказать тег для поданной list[str]\n",
    "\n",
    "    Аргументы:\n",
    "        - input_text (list[str]) - Поданный текст для определения тега\n",
    "    \"\"\"\n",
    "\n",
    "    sequence = tokenizer.texts_to_sequences(input_text)\n",
    "    padded_sequence = pad_sequences(sequence, maxlen=MAX_SEQUENCE_LENGTH)\n",
    "    pred = lstm_model.predict(padded_sequence)\n",
    "    # classes_list = classes['tag_idx'].to_list()\n",
    "    # print(pred, classes_list[np.argmax(pred)])\n",
    "    df_pred = pd.DataFrame()\n",
    "    pred = pd.DataFrame(pred)\n",
    "    df_pred['tag_idx'] = pred.idxmax(axis=1)\n",
    "    df_pred = df_pred.merge(classes, on='tag_idx')\n",
    "    # display(df_pred)\n",
    "    return df_pred['tag'][0]\n",
    "\n",
    "# статья из тега \"Наука\" за 26.05.2022\n",
    "text_to_classify = [\n",
    "    \"\"\"Ученые Университета Северной Каролины в Чапел-Хилл обнаружили \n",
    "    новый тип массивных черных дыр в карликовых галактиках. \n",
    "    Результаты исследования, опубликованного в The Astrophysical Journal, \n",
    "    помогут астрономам понять, как эволюционируют галактики вместе с находящимися \n",
    "    в их центрах черными дырами.\"\"\"\n",
    "]\n",
    "print(get_tag(text_to_classify))"
   ]
  },
  {
   "cell_type": "markdown",
   "metadata": {},
   "source": [
    "**Получим теги для транскрипций**"
   ]
  },
  {
   "cell_type": "code",
   "execution_count": 20,
   "metadata": {},
   "outputs": [
    {
     "data": {
      "text/html": [
       "<div>\n",
       "<style scoped>\n",
       "    .dataframe tbody tr th:only-of-type {\n",
       "        vertical-align: middle;\n",
       "    }\n",
       "\n",
       "    .dataframe tbody tr th {\n",
       "        vertical-align: top;\n",
       "    }\n",
       "\n",
       "    .dataframe thead th {\n",
       "        text-align: right;\n",
       "    }\n",
       "</style>\n",
       "<table border=\"1\" class=\"dataframe\">\n",
       "  <thead>\n",
       "    <tr style=\"text-align: right;\">\n",
       "      <th></th>\n",
       "      <th>Unnamed: 0</th>\n",
       "      <th>audiofile_name</th>\n",
       "      <th>raw_text</th>\n",
       "      <th>predicted_tag</th>\n",
       "    </tr>\n",
       "  </thead>\n",
       "  <tbody>\n",
       "    <tr>\n",
       "      <th>0</th>\n",
       "      <td>0</td>\n",
       "      <td>0003d952-f170-4af0-946f-35db983ac54a.wav</td>\n",
       "      <td>легендарный католический святой ставший основ...</td>\n",
       "      <td>Люди</td>\n",
       "    </tr>\n",
       "    <tr>\n",
       "      <th>1</th>\n",
       "      <td>1</td>\n",
       "      <td>0007b919-85dc-43f6-a1c8-80fdff3d0048.wav</td>\n",
       "      <td>это антибактериальное действие является посто...</td>\n",
       "      <td>Люди</td>\n",
       "    </tr>\n",
       "  </tbody>\n",
       "</table>\n",
       "</div>"
      ],
      "text/plain": [
       "   Unnamed: 0                            audiofile_name  \\\n",
       "0           0  0003d952-f170-4af0-946f-35db983ac54a.wav   \n",
       "1           1  0007b919-85dc-43f6-a1c8-80fdff3d0048.wav   \n",
       "\n",
       "                                            raw_text predicted_tag  \n",
       "0   легендарный католический святой ставший основ...          Люди  \n",
       "1   это антибактериальное действие является посто...          Люди  "
      ]
     },
     "metadata": {},
     "output_type": "display_data"
    }
   ],
   "source": [
    "df_transcribed = pd.read_excel(r'excel\\transcribed.xlsx')\n",
    "\n",
    "df_transcribed['predicted_tag'] = df_transcribed['raw_text'].apply(get_tag)\n",
    "display(df_transcribed)"
   ]
  },
  {
   "cell_type": "code",
   "execution_count": null,
   "metadata": {},
   "outputs": [],
   "source": [
    "# Что можно порекомендовать\n",
    "# Проговорить несколько раз выступление\n",
    "# сделать ipynb\n",
    "# презентацию ускорить\n",
    "# сделать выводы"
   ]
  }
 ],
 "metadata": {
  "interpreter": {
   "hash": "b880003d55d112efe60643614eb0687decbf38a024abab04dacfd5a9c97a3a7f"
  },
  "kernelspec": {
   "display_name": "Python 3.9.12 ('venv': venv)",
   "language": "python",
   "name": "python3"
  },
  "language_info": {
   "codemirror_mode": {
    "name": "ipython",
    "version": 3
   },
   "file_extension": ".py",
   "mimetype": "text/x-python",
   "name": "python",
   "nbconvert_exporter": "python",
   "pygments_lexer": "ipython3",
   "version": "3.9.12"
  },
  "orig_nbformat": 4
 },
 "nbformat": 4,
 "nbformat_minor": 2
}
