{
 "cells": [
  {
   "cell_type": "markdown",
   "metadata": {},
   "source": [
    "Название: recognize_speech.ipynb  \n",
    "\n",
    "Автор: hwpy  \n",
    "Дата: 2022 Март  \n",
    "Описание: Пакет функций для транскрипции wav  \n",
    "Примечания:  \n",
    "* Аудио для демонстрации взяты с открытого источника Russian Open Speech To Text (STT/ASR) Dataset  \n",
    "        https://www.kaggle.com/datasets/tapakah68/audio-dataset?resource=download&utm_source=pocket_mylist  \n",
    "* Перед началом работы необходимо клонировать git clone https://github.com/alphacep/vosk-api  \n",
    "        или загрузить полную русскоязычную модель https://alphacephei.com/vosk/models  \n",
    "        и распаковать в каталог model"
   ]
  },
  {
   "cell_type": "markdown",
   "metadata": {},
   "source": [
    "# Функции для взаимодействия с моделями"
   ]
  },
  {
   "cell_type": "markdown",
   "metadata": {},
   "source": [
    "**Импортируем модули и библиотеки**"
   ]
  },
  {
   "cell_type": "code",
   "execution_count": 1,
   "metadata": {},
   "outputs": [],
   "source": [
    "from IPython.display import display\n",
    "# для аннотаций\n",
    "from typing import List\n",
    "# для работы с данными\n",
    "import pandas as pd\n",
    "# для работы с файлами\n",
    "import os\n",
    "import wave\n",
    "# для транскрипции\n",
    "from vosk import Model, KaldiRecognizer\n",
    "import speech_recognition as speech_r\n",
    "import json\n",
    "# остальные\n",
    "from tqdm import tqdm\n",
    "# для работы с архивами\n",
    "from packages.helper import recursive_unpack, single_unpack"
   ]
  },
  {
   "cell_type": "markdown",
   "metadata": {},
   "source": [
    "**Определение функций и переменных**"
   ]
  },
  {
   "cell_type": "code",
   "execution_count": 2,
   "metadata": {},
   "outputs": [],
   "source": [
    "# путь к каталогу audio\n",
    "CUR_DIR = os.getcwd()\n",
    "PATH_TO_AUDIO = os.path.join(CUR_DIR, \"audio\")\n",
    "# частота дискретизации\n",
    "SAMPLE_RATE = 16000\n",
    "\n",
    "\n",
    "def create_list_of_wavs(path: str = PATH_TO_AUDIO) -> List[str]:\n",
    "    \"\"\"Создание списка путей до wav файлов, лежащих в любом уровне внутри PATH_TO_AUDIO\n",
    "\n",
    "    Аргументы:\n",
    "        - path (str) - путь до каталога wav (по умолчанию: {PATH_TO_AUDIO})\n",
    "\n",
    "    Возвращает:\n",
    "        wav_files (List[str]) - Список wav файлов, с которыми будем работать\n",
    "    \"\"\"\n",
    "    # будущий список wav\n",
    "    wav_files = []\n",
    "    for root, _, files in os.walk(path):\n",
    "        for file in files:\n",
    "            if file.endswith(\".wav\"):\n",
    "                wav_files.append(os.path.join(root, file))\n",
    "    return wav_files\n",
    "\n",
    "\n",
    "def get_files_sample_rate(path_to_audio: str = PATH_TO_AUDIO) -> pd.DataFrame:\n",
    "    \"\"\"Получить список частот дескритезации аудиофайлов в катологе path_to_audio\n",
    "\n",
    "    Аргументы:\n",
    "        - path_to_audio (str) - каталог wav файлов (по умолчанию: {PATH_TO_AUDIO})\n",
    "\n",
    "    Возвращает:\n",
    "        - df_sample_rates (pd.DataFrame) - фрейм из файлов и их частотами дискретизации\n",
    "    \"\"\"\n",
    "    df_sample_rates = pd.DataFrame(columns=['audiofile_name', 'sample_rate'])\n",
    "    for root, _, files in os.walk(path_to_audio):\n",
    "        for file in files:\n",
    "            file_path = os.path.join(root, file)\n",
    "            if file.endswith(\".wav\"):\n",
    "                with wave.open(file_path, \"rb\") as wave_file:\n",
    "                    sample_rate = wave_file.getframerate()\n",
    "                    # print(file, sample_rate)\n",
    "                    df_sample_rates =\\\n",
    "                        df_sample_rates.append(\n",
    "                            {\n",
    "                                'audiofile_name': file,\n",
    "                                'sample_rate': sample_rate\n",
    "                            },\n",
    "                            ignore_index=True\n",
    "                        )\n",
    "    return df_sample_rates\n",
    "\n",
    "\n",
    "def recognize_with_speech_recognition(path_to_audio: str = PATH_TO_AUDIO) -> None:\n",
    "    \"\"\"Транскрипция с помощью модуля speech_recognition\n",
    "\n",
    "    Аргументы:\n",
    "        - path_to_audio (str) (по умолчанию: {PATH_TO_AUDIO})\n",
    "\n",
    "    Возвращает:\n",
    "        None\n",
    "    \"\"\"\n",
    "    # создаем экземпляр класса Recognizer\n",
    "    recognizer = speech_r.Recognizer()\n",
    "\n",
    "    for root, _, files in os.walk(path_to_audio):\n",
    "        for file in files:\n",
    "            file_path = os.path.join(root, file)\n",
    "            if file.endswith(\".wav\"):\n",
    "                # Create audio file instance from the original file\n",
    "                call_record = speech_r.AudioFile(file_path)\n",
    "                type(call_record)\n",
    "                # Create audio data\n",
    "                with call_record as source:  # pylint: disable=unused-variable\n",
    "                    recognizer.adjust_for_ambient_noise(call_record)\n",
    "                    audiodata = recognizer.record(call_record)\n",
    "                # type(audiodata)\n",
    "\n",
    "                try:\n",
    "                    print(\"Google определил текст: \" + recognizer.recognize_google(audiodata, language='ru'))\n",
    "                except speech_r.UnknownValueError as e:\n",
    "                    print(\"Ошибка распознавания\" + str(e))\n",
    "\n",
    "                # не удалось запустить на macos\n",
    "                # try:\n",
    "                #     print(\"Sphinx определил текст: \" + recognizer.recognize_sphinx(audiodata, language='ru'))\n",
    "                # except speech_r.UnknownValueError as e:\n",
    "                #     print(\"Ошибка распознавания\" + str(e))\n",
    "\n",
    "\n",
    "def recognize_with_vosk(file: str, sample_rate: int = SAMPLE_RATE) -> pd.DataFrame:\n",
    "    \"\"\"Транскрипция файлов из file_list и запись имени файла и его текста в pd.DataFrame\n",
    "\n",
    "        - file (str) - путь к файлу\n",
    "\n",
    "    Возвращает:\n",
    "        - transcribed (pd.DataFrame) - фрейм с именами файлов и их транскрипцией\n",
    "    \"\"\"\n",
    "    # проверка на существование каталога модели\n",
    "    if not os.path.exists('model'):\n",
    "        print(\"Необходимо загрузить модель с: https://alphacephei.com/vosk/models\\\n",
    "            и распаковать как 'model' в текущую папку.\")\n",
    "    else:\n",
    "        # экземпляр модели\n",
    "        model = Model('model')\n",
    "        # экземпляр рекогнайзера\n",
    "        rec = KaldiRecognizer(model, sample_rate)\n",
    "        # dataframe для хранения транскрипции текста\n",
    "        transcribed = pd.DataFrame(columns=['audiofile_name', 'raw_text'])\n",
    "        print(file)\n",
    "        last_n = False\n",
    "        recognized_data = ''\n",
    "        wave_audio_file = wave.open(file, \"rb\")\n",
    "        while True:\n",
    "            data = wave_audio_file.readframes(wave_audio_file.getnframes())\n",
    "            if len(data) == 0:\n",
    "                break\n",
    "\n",
    "            if rec.AcceptWaveform(data):\n",
    "                res = json.loads(rec.Result())\n",
    "            # recognized_data = json.loads(rec.Result())[\"text\"]\n",
    "                if res['text'] != '':\n",
    "                    recognized_data += f\" {res['text']}\"\n",
    "                    last_n = False\n",
    "                elif not last_n:\n",
    "                    recognized_data += '\\n'\n",
    "                    last_n = True\n",
    "\n",
    "        res = json.loads(rec.FinalResult())\n",
    "        recognized_data += f\" {res['text']}\"\n",
    "\n",
    "        print(recognized_data)\n",
    "        _, audiofile_name = os.path.split(file)\n",
    "\n",
    "        transcribed =\\\n",
    "            transcribed.append(\n",
    "                {\n",
    "                    'audiofile_name': audiofile_name,\n",
    "                    'raw_text': recognized_data\n",
    "                },\n",
    "                ignore_index=True\n",
    "            )\n",
    "    return transcribed\n",
    "\n",
    "\n",
    "# если датасет лежит во вложенных архивах - разархивируем\n",
    "# recursive_unpack(path=PATH_TO_AUDIO)\n",
    "# если датасет лежит в архиве без вложенных архивов - разархивируем\n",
    "# single_unpack(path=PATH_TO_AUDIO)"
   ]
  },
  {
   "cell_type": "markdown",
   "metadata": {},
   "source": [
    "# Транскрипция"
   ]
  },
  {
   "cell_type": "markdown",
   "metadata": {},
   "source": [
    "**Применим объявленные функции и посмотрим на результат**"
   ]
  },
  {
   "cell_type": "code",
   "execution_count": 3,
   "metadata": {},
   "outputs": [
    {
     "name": "stderr",
     "output_type": "stream",
     "text": [
      "C:\\Users\\Akulov.as\\AppData\\Local\\Temp\\ipykernel_11124\\385624108.py:44: FutureWarning: The frame.append method is deprecated and will be removed from pandas in a future version. Use pandas.concat instead.\n",
      "  df_sample_rates.append(\n",
      "C:\\Users\\Akulov.as\\AppData\\Local\\Temp\\ipykernel_11124\\385624108.py:44: FutureWarning: The frame.append method is deprecated and will be removed from pandas in a future version. Use pandas.concat instead.\n",
      "  df_sample_rates.append(\n"
     ]
    },
    {
     "name": "stdout",
     "output_type": "stream",
     "text": [
      "                             audiofile_name sample_rate\n",
      "0  0003d952-f170-4af0-946f-35db983ac54a.wav       16000\n",
      "1  0007b919-85dc-43f6-a1c8-80fdff3d0048.wav       16000\n",
      "Google определил текст: легендарный католический Святой ставший основателем нищенствующие ордена францисканцев на первый взгляд является классическим шизофреником\n",
      "Google определил текст: это антибактериальное действие является постоянным и устойчивым многократной стирки\n"
     ]
    },
    {
     "name": "stderr",
     "output_type": "stream",
     "text": [
      "  0%|          | 0/2 [00:00<?, ?it/s]"
     ]
    },
    {
     "name": "stdout",
     "output_type": "stream",
     "text": [
      "c:\\GitHub\\doc_classifier\\audio\\0003d952-f170-4af0-946f-35db983ac54a.wav\n"
     ]
    },
    {
     "name": "stderr",
     "output_type": "stream",
     "text": [
      "C:\\Users\\Akulov.as\\AppData\\Local\\Temp\\ipykernel_11124\\385624108.py:136: FutureWarning: The frame.append method is deprecated and will be removed from pandas in a future version. Use pandas.concat instead.\n",
      "  transcribed.append(\n",
      " 50%|█████     | 1/2 [01:48<01:48, 108.56s/it]"
     ]
    },
    {
     "name": "stdout",
     "output_type": "stream",
     "text": [
      " легендарный католический святой ставший основателем нищенствующего ордена францисканцев на первый взгляд является классическим шизофреником\n",
      "c:\\GitHub\\doc_classifier\\audio\\0007b919-85dc-43f6-a1c8-80fdff3d0048.wav\n"
     ]
    },
    {
     "name": "stderr",
     "output_type": "stream",
     "text": [
      "C:\\Users\\Akulov.as\\AppData\\Local\\Temp\\ipykernel_11124\\385624108.py:136: FutureWarning: The frame.append method is deprecated and will be removed from pandas in a future version. Use pandas.concat instead.\n",
      "  transcribed.append(\n",
      "100%|██████████| 2/2 [04:23<00:00, 131.84s/it]"
     ]
    },
    {
     "name": "stdout",
     "output_type": "stream",
     "text": [
      " это антибактериальное действие является постоянным и устойчивым к многократной стирке\n"
     ]
    },
    {
     "name": "stderr",
     "output_type": "stream",
     "text": [
      "\n"
     ]
    },
    {
     "data": {
      "text/html": [
       "<div>\n",
       "<style scoped>\n",
       "    .dataframe tbody tr th:only-of-type {\n",
       "        vertical-align: middle;\n",
       "    }\n",
       "\n",
       "    .dataframe tbody tr th {\n",
       "        vertical-align: top;\n",
       "    }\n",
       "\n",
       "    .dataframe thead th {\n",
       "        text-align: right;\n",
       "    }\n",
       "</style>\n",
       "<table border=\"1\" class=\"dataframe\">\n",
       "  <thead>\n",
       "    <tr style=\"text-align: right;\">\n",
       "      <th></th>\n",
       "      <th>audiofile_name</th>\n",
       "      <th>raw_text</th>\n",
       "    </tr>\n",
       "  </thead>\n",
       "  <tbody>\n",
       "    <tr>\n",
       "      <th>0</th>\n",
       "      <td>0003d952-f170-4af0-946f-35db983ac54a.wav</td>\n",
       "      <td>легендарный католический святой ставший основ...</td>\n",
       "    </tr>\n",
       "    <tr>\n",
       "      <th>1</th>\n",
       "      <td>0007b919-85dc-43f6-a1c8-80fdff3d0048.wav</td>\n",
       "      <td>это антибактериальное действие является посто...</td>\n",
       "    </tr>\n",
       "  </tbody>\n",
       "</table>\n",
       "</div>"
      ],
      "text/plain": [
       "                             audiofile_name  \\\n",
       "0  0003d952-f170-4af0-946f-35db983ac54a.wav   \n",
       "1  0007b919-85dc-43f6-a1c8-80fdff3d0048.wav   \n",
       "\n",
       "                                            raw_text  \n",
       "0   легендарный католический святой ставший основ...  \n",
       "1   это антибактериальное действие является посто...  "
      ]
     },
     "metadata": {},
     "output_type": "display_data"
    }
   ],
   "source": [
    "# смотрим sample rates\n",
    "df_samplerates = get_files_sample_rate(path_to_audio=PATH_TO_AUDIO)\n",
    "print(df_samplerates)\n",
    "# транскрипция с помощью speech_recognition\n",
    "recognize_with_speech_recognition(PATH_TO_AUDIO)\n",
    "# создаем список wav файлов в каталоге audio\n",
    "list_of_wavs = create_list_of_wavs(PATH_TO_AUDIO)\n",
    "# транскрипция списка с помощью vosk\n",
    "df_transcribed = pd.DataFrame(columns=['audiofile_name', 'raw_text'])\n",
    "for file in tqdm(list_of_wavs):\n",
    "    df_transcribed = pd.concat([df_transcribed, recognize_with_vosk(file, SAMPLE_RATE)])\n",
    "df_transcribed.reset_index(inplace=True, drop=True)\n",
    "display(df_transcribed)\n",
    "# выгружаем результат\n",
    "df_transcribed.to_excel(r\"excel/transcribed.xlsx\")"
   ]
  },
  {
   "cell_type": "markdown",
   "metadata": {},
   "source": [
    "# Выводы:  \n",
    "**1. Google**  \n",
    "\n",
    "Преимущества:  \n",
    "- справляется относительно хорошо, но бывает ошибается в падежах,  \n",
    "- занимает мало места на диске,  \n",
    "- просто использовать.  \n",
    "\n",
    "Недостатки:  \n",
    "- отправка данных на сервер для обработки, не подходит по критериям,\n",
    "- платное использование сверх n взаимодействий в день, не подходит по критериям.\n",
    "\n",
    "**2. Sphinx**  \n",
    "\n",
    "Преимущества:  \n",
    "- занимает мало места на диске,  \n",
    "- просто использовать.  \n",
    "\n",
    "Недостатки:  \n",
    "- справляется относительно плохо, транскрибирует неправильно значительную часть аудио.  \n",
    "\n",
    "**3. VOSK**  \n",
    "\n",
    "Преимущества: \n",
    "- справляется относительно хорошо,  \n",
    "- есть возможность адаптации модели под свои потребности,  \n",
    "- есть возможность загрузить \"маленькую\" и \"большую\" модель  \n",
    "    в зависимости от устройства использования и желаемой точности  \n",
    "\n",
    "Недостатки:\n",
    "- возможно потребуется некоторая предобработка кодеков аудио  \n",
    "\n",
    "В этом примере предпочтительно было использовать VOSK API."
   ]
  }
 ],
 "metadata": {
  "interpreter": {
   "hash": "b880003d55d112efe60643614eb0687decbf38a024abab04dacfd5a9c97a3a7f"
  },
  "kernelspec": {
   "display_name": "Python 3.9.12 ('venv': venv)",
   "language": "python",
   "name": "python3"
  },
  "language_info": {
   "codemirror_mode": {
    "name": "ipython",
    "version": 3
   },
   "file_extension": ".py",
   "mimetype": "text/x-python",
   "name": "python",
   "nbconvert_exporter": "python",
   "pygments_lexer": "ipython3",
   "version": "3.9.12"
  },
  "orig_nbformat": 4
 },
 "nbformat": 4,
 "nbformat_minor": 2
}
