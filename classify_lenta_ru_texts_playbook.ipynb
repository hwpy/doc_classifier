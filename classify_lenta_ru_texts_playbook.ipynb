{
 "cells": [
  {
   "cell_type": "markdown",
   "metadata": {},
   "source": [
    "Название: classify_lenta_ru_texts_playbook.ipynb\n",
    "\n",
    "Автор: hwpy  \n",
    "Дата: 2022 Май  \n",
    "Описание: Обработка заголовков текстов, составление словаря, обучение классификатора  \n",
    "Примечания:  \n",
    "* Для демонстрации взят открытый датасет русскоязычных новостей Lenta.ru  \n",
    "* https://www.kaggle.com/yutkin/corpus-of-russian-news-articles-from-lenta/  "
   ]
  },
  {
   "cell_type": "markdown",
   "metadata": {},
   "source": [
    "# Модель"
   ]
  },
  {
   "cell_type": "markdown",
   "metadata": {},
   "source": [
    "**Загружаем стопслова**"
   ]
  },
  {
   "cell_type": "code",
   "execution_count": 42,
   "metadata": {},
   "outputs": [],
   "source": [
    "import os\n",
    "import ssl\n",
    "import nltk\n",
    "\n",
    "CUR_DIR = os.getcwd()\n",
    "# Указать свою директорию\n",
    "PATH_TO_NLTK_DATA = os.path.join(CUR_DIR, 'venv/nltk_data')\n",
    "if not os.path.exists(PATH_TO_NLTK_DATA):\n",
    "    os.makedirs(PATH_TO_NLTK_DATA)\n",
    "if not os.listdir(PATH_TO_NLTK_DATA):\n",
    "    try:\n",
    "        _create_unverified_https_context = ssl._create_unverified_context  # pylint:disable=protected-access\n",
    "    except AttributeError:\n",
    "        pass\n",
    "    else:\n",
    "        ssl._create_default_https_context = _create_unverified_https_context  # pylint:disable=protected-access\n",
    "\n",
    "    nltk.download('stopwords', download_dir=PATH_TO_NLTK_DATA)"
   ]
  },
  {
   "cell_type": "markdown",
   "metadata": {},
   "source": [
    "**Импортируем модули и библиотеки**"
   ]
  },
  {
   "cell_type": "code",
   "execution_count": 43,
   "metadata": {},
   "outputs": [
    {
     "name": "stdout",
     "output_type": "stream",
     "text": [
      "{'к', 'без', 'после', 'три', 'больше', 'нельзя', 'наконец', 'этот', 'было', 'для', 'с', 'один', 'этого', 'ничего', 'вам', 'во', 'я', 'может', 'про', 'от', 'нас', 'том', 'этой', 'ведь', 'них', 'того', 'зачем', 'даже', 'до', 'или', 'над', 'то', 'ни', 'он', 'быть', 'еще', 'эти', 'вот', 'ему', 'всю', 'всегда', 'из', 'раз', 'тогда', 'но', 'она', 'на', 'всего', 'тем', 'когда', 'его', 'чтобы', 'если', 'были', 'впрочем', 'ней', 'иногда', 'их', 'потому', 'в', 'чтоб', 'нет', 'ним', 'им', 'можно', 'под', 'мы', 'какая', 'уж', 'какой', 'кто', 'что', 'да', 'при', 'же', 'только', 'тоже', 'бы', 'чего', 'была', 'как', 'моя', 'надо', 'другой', 'нее', 'почти', 'ли', 'никогда', 'свою', 'перед', 'уже', 'где', 'мой', 'есть', 'теперь', 'ее', 'опять', 'совсем', 'об', 'все', 'будет', 'хоть', 'него', 'тут', 'у', 'нибудь', 'конечно', 'тот', 'эту', 'тебя', 'а', 'всех', 'за', 'был', 'они', 'сейчас', 'разве', 'вдруг', 'там', 'такой', 'много', 'ты', 'два', 'здесь', 'вы', 'ну', 'меня', 'потом', 'ей', 'так', 'куда', 'чуть', 'между', 'будто', 'себя', 'и', 'не', 'себе', 'более', 'чем', 'по', 'вас', 'ж', 'мне', 'со', 'через', 'лучше', 'хорошо', 'сам', 'этом', 'о'}\n"
     ]
    }
   ],
   "source": [
    "from typing import List, Any\n",
    "from IPython.display import display\n",
    "import random\n",
    "import re\n",
    "\n",
    "import pandas as pd\n",
    "import numpy as np\n",
    "import pickle\n",
    "import matplotlib.pyplot as plt\n",
    "\n",
    "from tensorflow.keras import models, metrics  # type: ignore pylint: disable=import-error\n",
    "# utils\n",
    "from tensorflow.keras.models import Sequential  # type: ignore pylint: disable=no-name-in-module, import-error\n",
    "from tensorflow.keras.optimizers import Adam  # type: ignore pylint: disable=no-name-in-module, import-error\n",
    "from tensorflow.keras.layers import Dense, Embedding, LSTM, Dropout  # type: ignore pylint: disable=no-name-in-module, import-error\n",
    "# MaxPooling1D, Conv1D, GlobalMaxPooling1D, Dropout, GRU, SpatialDropout1D\n",
    "from tensorflow.keras.preprocessing.sequence import pad_sequences  # type: ignore pylint: disable=no-name-in-module, import-error\n",
    "from tensorflow.keras.preprocessing.text import Tokenizer  # type: ignore pylint: disable=no-name-in-module, import-error\n",
    "from tensorflow.keras.callbacks import ModelCheckpoint, EarlyStopping  # type: ignore pylint: disable=no-name-in-module, import-error\n",
    "from tensorflow.keras.backend import clear_session  # type: ignore pylint: disable=no-name-in-module, import-error, unused-import\n",
    "\n",
    "from nltk.corpus import stopwords\n",
    "\n",
    "from sklearn.model_selection import train_test_split\n",
    "from sklearn.metrics import classification_report  # confusion_matrix\n",
    "\n",
    "nltk_stopwords = set(stopwords.words('russian'))\n",
    "print(nltk_stopwords)\n",
    "\n",
    "SEED = 42\n",
    "random.seed(SEED)"
   ]
  },
  {
   "cell_type": "markdown",
   "metadata": {},
   "source": [
    "**Загрузим датасет и посмотрим на него**"
   ]
  },
  {
   "cell_type": "code",
   "execution_count": 44,
   "metadata": {},
   "outputs": [
    {
     "data": {
      "image/png": "[encoded data removed]",
      "text/plain": [
       "<Figure size 432x288 with 1 Axes>"
      ]
     },
     "metadata": {
      "needs_background": "light"
     },
     "output_type": "display_data"
    },
    {
     "name": "stdout",
     "output_type": "stream",
     "text": [
      "<class 'pandas.core.frame.DataFrame'>\n",
      "RangeIndex: 157723 entries, 0 to 157722\n",
      "Data columns (total 2 columns):\n",
      " #   Column  Non-Null Count   Dtype \n",
      "---  ------  --------------   ----- \n",
      " 0   text    157722 non-null  object\n",
      " 1   tags    157723 non-null  object\n",
      "dtypes: object(2)\n",
      "memory usage: 2.4+ MB\n"
     ]
    },
    {
     "data": {
      "text/html": [
       "<div>\n",
       "<style scoped>\n",
       "    .dataframe tbody tr th:only-of-type {\n",
       "        vertical-align: middle;\n",
       "    }\n",
       "\n",
       "    .dataframe tbody tr th {\n",
       "        vertical-align: top;\n",
       "    }\n",
       "\n",
       "    .dataframe thead th {\n",
       "        text-align: right;\n",
       "    }\n",
       "</style>\n",
       "<table border=\"1\" class=\"dataframe\">\n",
       "  <thead>\n",
       "    <tr style=\"text-align: right;\">\n",
       "      <th></th>\n",
       "      <th>text</th>\n",
       "      <th>tags</th>\n",
       "    </tr>\n",
       "  </thead>\n",
       "  <tbody>\n",
       "    <tr>\n",
       "      <th>0</th>\n",
       "      <td>Американского актера Уэсли Снайпса в четверг п...</td>\n",
       "      <td>Кино</td>\n",
       "    </tr>\n",
       "    <tr>\n",
       "      <th>1</th>\n",
       "      <td>Власти одного из районов столицы Южной Кореи з...</td>\n",
       "      <td>Общество</td>\n",
       "    </tr>\n",
       "    <tr>\n",
       "      <th>2</th>\n",
       "      <td>\"Федеральная пассажирская компания\", входящая ...</td>\n",
       "      <td>Бизнес</td>\n",
       "    </tr>\n",
       "    <tr>\n",
       "      <th>3</th>\n",
       "      <td>Вечером 26 ноября 2012 года из Москвы в Хельси...</td>\n",
       "      <td>Бизнес</td>\n",
       "    </tr>\n",
       "    <tr>\n",
       "      <th>4</th>\n",
       "      <td>В Махачкале в четверг, 27 декабря, был задержа...</td>\n",
       "      <td>Политика</td>\n",
       "    </tr>\n",
       "    <tr>\n",
       "      <th>...</th>\n",
       "      <td>...</td>\n",
       "      <td>...</td>\n",
       "    </tr>\n",
       "    <tr>\n",
       "      <th>157718</th>\n",
       "      <td>YouTube назвал самые популярные музыкальные кл...</td>\n",
       "      <td>Музыка</td>\n",
       "    </tr>\n",
       "    <tr>\n",
       "      <th>157719</th>\n",
       "      <td>Ученые из Колледжа врачей и хирургов при Колум...</td>\n",
       "      <td>Наука</td>\n",
       "    </tr>\n",
       "    <tr>\n",
       "      <th>157720</th>\n",
       "      <td>Белоруссия возьмет у Китая кредит на 3,5 милли...</td>\n",
       "      <td>Госэкономика</td>\n",
       "    </tr>\n",
       "    <tr>\n",
       "      <th>157721</th>\n",
       "      <td>Испытание США ранее запрещенной Договором о ли...</td>\n",
       "      <td>Политика</td>\n",
       "    </tr>\n",
       "    <tr>\n",
       "      <th>157722</th>\n",
       "      <td>В ближайшие дни в европейской части России пог...</td>\n",
       "      <td>Общество</td>\n",
       "    </tr>\n",
       "  </tbody>\n",
       "</table>\n",
       "<p>157723 rows × 2 columns</p>\n",
       "</div>"
      ],
      "text/plain": [
       "                                                     text          tags\n",
       "0       Американского актера Уэсли Снайпса в четверг п...          Кино\n",
       "1       Власти одного из районов столицы Южной Кореи з...      Общество\n",
       "2       \"Федеральная пассажирская компания\", входящая ...        Бизнес\n",
       "3       Вечером 26 ноября 2012 года из Москвы в Хельси...        Бизнес\n",
       "4       В Махачкале в четверг, 27 декабря, был задержа...      Политика\n",
       "...                                                   ...           ...\n",
       "157718  YouTube назвал самые популярные музыкальные кл...        Музыка\n",
       "157719  Ученые из Колледжа врачей и хирургов при Колум...         Наука\n",
       "157720  Белоруссия возьмет у Китая кредит на 3,5 милли...  Госэкономика\n",
       "157721  Испытание США ранее запрещенной Договором о ли...      Политика\n",
       "157722  В ближайшие дни в европейской части России пог...      Общество\n",
       "\n",
       "[157723 rows x 2 columns]"
      ]
     },
     "metadata": {},
     "output_type": "display_data"
    }
   ],
   "source": [
    "df_news = pd.read_csv('data/lenta-ru-news.csv', usecols=[\"text\", \"tags\"])\n",
    "# Включим только те теги, которые проставлены более 6000 раз\n",
    "df_news = df_news[df_news['tags'].map(df_news['tags'].value_counts()) >= 6000]\n",
    "df_news.reset_index(inplace=True, drop=True)\n",
    "plt.plot(df_news[\"tags\"].value_counts())\n",
    "plt.xticks(rotation=90, fontsize=15)\n",
    "plt.title(\"Распределение тегов\")\n",
    "plt.show()\n",
    "# Отобразим df\n",
    "df_news.info()\n",
    "display(df_news)"
   ]
  },
  {
   "cell_type": "markdown",
   "metadata": {},
   "source": [
    "**Добавим индексы классов**"
   ]
  },
  {
   "cell_type": "code",
   "execution_count": 45,
   "metadata": {},
   "outputs": [
    {
     "data": {
      "text/html": [
       "<div>\n",
       "<style scoped>\n",
       "    .dataframe tbody tr th:only-of-type {\n",
       "        vertical-align: middle;\n",
       "    }\n",
       "\n",
       "    .dataframe tbody tr th {\n",
       "        vertical-align: top;\n",
       "    }\n",
       "\n",
       "    .dataframe thead th {\n",
       "        text-align: right;\n",
       "    }\n",
       "</style>\n",
       "<table border=\"1\" class=\"dataframe\">\n",
       "  <thead>\n",
       "    <tr style=\"text-align: right;\">\n",
       "      <th></th>\n",
       "      <th>text</th>\n",
       "      <th>tags</th>\n",
       "      <th>tag_idx</th>\n",
       "      <th>tag</th>\n",
       "    </tr>\n",
       "  </thead>\n",
       "  <tbody>\n",
       "    <tr>\n",
       "      <th>0</th>\n",
       "      <td>Американского актера Уэсли Снайпса в четверг п...</td>\n",
       "      <td>Кино</td>\n",
       "      <td>4</td>\n",
       "      <td>Кино</td>\n",
       "    </tr>\n",
       "    <tr>\n",
       "      <th>1</th>\n",
       "      <td>Режиссер Сэм Мендес, снявший \"007: Координаты ...</td>\n",
       "      <td>Кино</td>\n",
       "      <td>4</td>\n",
       "      <td>Кино</td>\n",
       "    </tr>\n",
       "    <tr>\n",
       "      <th>2</th>\n",
       "      <td>Кинокомпания Warner Bros. снимет фильм о жизни...</td>\n",
       "      <td>Кино</td>\n",
       "      <td>4</td>\n",
       "      <td>Кино</td>\n",
       "    </tr>\n",
       "    <tr>\n",
       "      <th>3</th>\n",
       "      <td>Австралийская певица Кайли Миноуг решила покин...</td>\n",
       "      <td>Кино</td>\n",
       "      <td>4</td>\n",
       "      <td>Кино</td>\n",
       "    </tr>\n",
       "    <tr>\n",
       "      <th>4</th>\n",
       "      <td>Телеканал NBC заказал съемки пилотного эпизода...</td>\n",
       "      <td>Кино</td>\n",
       "      <td>4</td>\n",
       "      <td>Кино</td>\n",
       "    </tr>\n",
       "  </tbody>\n",
       "</table>\n",
       "</div>"
      ],
      "text/plain": [
       "                                                text  tags  tag_idx   tag\n",
       "0  Американского актера Уэсли Снайпса в четверг п...  Кино        4  Кино\n",
       "1  Режиссер Сэм Мендес, снявший \"007: Координаты ...  Кино        4  Кино\n",
       "2  Кинокомпания Warner Bros. снимет фильм о жизни...  Кино        4  Кино\n",
       "3  Австралийская певица Кайли Миноуг решила покин...  Кино        4  Кино\n",
       "4  Телеканал NBC заказал съемки пилотного эпизода...  Кино        4  Кино"
      ]
     },
     "execution_count": 45,
     "metadata": {},
     "output_type": "execute_result"
    }
   ],
   "source": [
    "classes = pd.DataFrame()\n",
    "classes = df_news.tags.value_counts()\n",
    "classes = classes.reset_index(inplace=False, drop=False)\n",
    "classes = classes.rename(columns={'index': 'tag'})\n",
    "classes = classes.reset_index(inplace=False, drop=False)\n",
    "classes = classes.rename(columns={'index': 'tag_idx'})\n",
    "classes.drop('tags', axis=1, inplace=True)\n",
    "df_news = df_news.merge(classes, left_on='tags', right_on='tag')\n",
    "df_news.head()"
   ]
  },
  {
   "cell_type": "markdown",
   "metadata": {},
   "source": [
    "**Удалим спецсимволы и приведем к нижнему регистру**"
   ]
  },
  {
   "cell_type": "code",
   "execution_count": 46,
   "metadata": {},
   "outputs": [
    {
     "data": {
      "text/html": [
       "<div>\n",
       "<style scoped>\n",
       "    .dataframe tbody tr th:only-of-type {\n",
       "        vertical-align: middle;\n",
       "    }\n",
       "\n",
       "    .dataframe tbody tr th {\n",
       "        vertical-align: top;\n",
       "    }\n",
       "\n",
       "    .dataframe thead th {\n",
       "        text-align: right;\n",
       "    }\n",
       "</style>\n",
       "<table border=\"1\" class=\"dataframe\">\n",
       "  <thead>\n",
       "    <tr style=\"text-align: right;\">\n",
       "      <th></th>\n",
       "      <th>text</th>\n",
       "      <th>tags</th>\n",
       "      <th>tag_idx</th>\n",
       "      <th>tag</th>\n",
       "      <th>text_cleaned</th>\n",
       "    </tr>\n",
       "  </thead>\n",
       "  <tbody>\n",
       "    <tr>\n",
       "      <th>157718</th>\n",
       "      <td>Определились все 16 участников плей-офф Лиги ч...</td>\n",
       "      <td>Футбол</td>\n",
       "      <td>3</td>\n",
       "      <td>Футбол</td>\n",
       "      <td>определились 16 участников плей-офф лиги чемпи...</td>\n",
       "    </tr>\n",
       "    <tr>\n",
       "      <th>157719</th>\n",
       "      <td>Анна Семак, жена главного тренера петербургско...</td>\n",
       "      <td>Футбол</td>\n",
       "      <td>3</td>\n",
       "      <td>Футбол</td>\n",
       "      <td>анна семак жена главного тренера петербургског...</td>\n",
       "    </tr>\n",
       "    <tr>\n",
       "      <th>157720</th>\n",
       "      <td>Президент московского ЦСКА Евгений Гинер отстр...</td>\n",
       "      <td>Футбол</td>\n",
       "      <td>3</td>\n",
       "      <td>Футбол</td>\n",
       "      <td>президент московского цска евгений гинер отстр...</td>\n",
       "    </tr>\n",
       "    <tr>\n",
       "      <th>157721</th>\n",
       "      <td>Элизабет Борель, проживающая в одном районе с ...</td>\n",
       "      <td>Футбол</td>\n",
       "      <td>3</td>\n",
       "      <td>Футбол</td>\n",
       "      <td>элизабет борель проживающая одном районе напад...</td>\n",
       "    </tr>\n",
       "    <tr>\n",
       "      <th>157722</th>\n",
       "      <td>Российские футбольные клубы впервые за 18 лет ...</td>\n",
       "      <td>Футбол</td>\n",
       "      <td>3</td>\n",
       "      <td>Футбол</td>\n",
       "      <td>российские футбольные клубы впервые 18 лет сыг...</td>\n",
       "    </tr>\n",
       "  </tbody>\n",
       "</table>\n",
       "</div>"
      ],
      "text/plain": [
       "                                                     text    tags  tag_idx  \\\n",
       "157718  Определились все 16 участников плей-офф Лиги ч...  Футбол        3   \n",
       "157719  Анна Семак, жена главного тренера петербургско...  Футбол        3   \n",
       "157720  Президент московского ЦСКА Евгений Гинер отстр...  Футбол        3   \n",
       "157721  Элизабет Борель, проживающая в одном районе с ...  Футбол        3   \n",
       "157722  Российские футбольные клубы впервые за 18 лет ...  Футбол        3   \n",
       "\n",
       "           tag                                       text_cleaned  \n",
       "157718  Футбол  определились 16 участников плей-офф лиги чемпи...  \n",
       "157719  Футбол  анна семак жена главного тренера петербургског...  \n",
       "157720  Футбол  президент московского цска евгений гинер отстр...  \n",
       "157721  Футбол  элизабет борель проживающая одном районе напад...  \n",
       "157722  Футбол  российские футбольные клубы впервые 18 лет сыг...  "
      ]
     },
     "execution_count": 46,
     "metadata": {},
     "output_type": "execute_result"
    }
   ],
   "source": [
    "def clean_text(text: str) -> str:\n",
    "    \"\"\"Очистить текст\n",
    "\n",
    "    Аргументы:\n",
    "        - text (str) - Текст документа\n",
    "\n",
    "    Возвращает:\n",
    "        str - очищенный регулярками replace_by_space_re, bad_symbols_re текст\n",
    "    \"\"\"\n",
    "\n",
    "    replace_by_space_re = re.compile(r'[/(){}\\[\\]\\|@,;:]')\n",
    "    bad_symbols_re = re.compile(r'[#+_\"\"'']')\n",
    "\n",
    "    # Заменяем символы replace_by_space_re на пробел\n",
    "    text = replace_by_space_re.sub(' ', str(text))\n",
    "    # Удаление символов bad_symbols_re\n",
    "    text = bad_symbols_re.sub(' ', str(text))\n",
    "    # Приводим к нижнему регистру\n",
    "    text = text.lower()\n",
    "    # Удаляем стоп слова\n",
    "    text = ' '.join(word for word in text.split() if word not in nltk_stopwords)\n",
    "\n",
    "    return text\n",
    "\n",
    "\n",
    "df_news['text_cleaned'] = df_news['text'].apply(clean_text)\n",
    "df_news.dropna()\n",
    "df_news.tail()"
   ]
  },
  {
   "cell_type": "markdown",
   "metadata": {},
   "source": [
    "**Объявим переменные**"
   ]
  },
  {
   "cell_type": "code",
   "execution_count": null,
   "metadata": {},
   "outputs": [],
   "source": [
    "# Максимальное количество используемух слов (по частоте)\n",
    "MAX_NB_WORDS = 100000\n",
    "# Максимальное количество слов в документе\n",
    "MAX_SEQUENCE_LENGTH = 200\n",
    "# Размер эмбеддинга - длина вектора для каждого слова\n",
    "EMBEDDING_DIM = 300\n",
    "EPOCHS = 25\n",
    "BATCH_SIZE = 64\n",
    "MODEL_LSTM_SAVE_PATH = r'tf_models/best_lstm_classificator'\n",
    "HISTORY_LSTM_SAVE_PATH = r'tf_models/history_lstm_classificator'\n",
    "TOKENIZER_SAVE_PATH = r'tf_models/tokenizer.pickle'"
   ]
  },
  {
   "cell_type": "markdown",
   "metadata": {},
   "source": [
    "**Токенайзер**"
   ]
  },
  {
   "cell_type": "code",
   "execution_count": null,
   "metadata": {},
   "outputs": [],
   "source": [
    "tokenizer = Tokenizer(\n",
    "    num_words=MAX_NB_WORDS,\n",
    "    filters=r'!\"#$%&()*+,-./:;<=>?@[\\]^_`{|}~',\n",
    "    lower=True\n",
    ")\n",
    "\n",
    "tokenizer.fit_on_texts(df_news['text_cleaned'].values)\n",
    "# сохраняем токенайзер\n",
    "with open(TOKENIZER_SAVE_PATH, 'wb') as handle:\n",
    "    pickle.dump(tokenizer, handle, protocol=pickle.HIGHEST_PROTOCOL)\n",
    "word_index = tokenizer.word_index\n",
    "print('Найдено %s уникальных токенов.' % len(word_index))"
   ]
  },
  {
   "cell_type": "markdown",
   "metadata": {},
   "source": [
    "**Токенизируем тексты**"
   ]
  },
  {
   "cell_type": "code",
   "execution_count": null,
   "metadata": {},
   "outputs": [],
   "source": [
    "X = tokenizer.texts_to_sequences(df_news['text_cleaned'].values)\n",
    "X = pad_sequences(X, maxlen=MAX_SEQUENCE_LENGTH)\n",
    "print('Размер тензора с векторами документов:', X.shape)\n",
    "\n",
    "print(f\"Предлжение: {df_news['text_cleaned'].values[1]}\")\n",
    "print(f\"Токенизированное предложение: {X[1]}\")\n",
    "# Применяем one-hot encoding, получаем разреженную матрицу из n колонок,\n",
    "# где n - количество классов, где во всех позициях нули, кроме позиции класса - 1\n",
    "Y = pd.get_dummies(df_news['tag_idx']).values\n",
    "print('Размер тензора с векторами классов:', Y.shape)\n",
    "print(f\"One-hot encoded классы: {Y}\")"
   ]
  },
  {
   "cell_type": "markdown",
   "metadata": {},
   "source": [
    "**Разделяем данные на train и test**"
   ]
  },
  {
   "cell_type": "code",
   "execution_count": null,
   "metadata": {},
   "outputs": [],
   "source": [
    "X_train, X_test, Y_train, Y_test = train_test_split(\n",
    "    X,\n",
    "    Y,\n",
    "    test_size=0.15,\n",
    "    random_state=SEED,\n",
    "    stratify=Y\n",
    ")\n",
    "print(X_train.shape, Y_train.shape)\n",
    "print(X_test.shape, Y_test.shape)\n",
    "\n",
    "classes_count = df_news['tag_idx'].value_counts().shape[0]\n",
    "print(f'Количестко классов :{classes_count}')"
   ]
  },
  {
   "cell_type": "markdown",
   "metadata": {},
   "source": [
    "**Определяем модель**"
   ]
  },
  {
   "cell_type": "code",
   "execution_count": null,
   "metadata": {},
   "outputs": [],
   "source": [
    "optimizer = Adam(learning_rate=0.001)\n",
    "model_lstm = Sequential()\n",
    "model_lstm.add(Embedding(MAX_NB_WORDS, EMBEDDING_DIM, input_length=X.shape[1]))  # input_length - длина входной последовательности pylint: disable=line-too-long\n",
    "model_lstm.add(Dropout(0.3))\n",
    "model_lstm.add(LSTM(EMBEDDING_DIM))  # dropout=0.2, recurrent_dropout=0.2\n",
    "model_lstm.add(Dropout(0.3))\n",
    "model_lstm.add(Dense(classes_count, activation='softmax'))\n",
    "model_lstm.compile(\n",
    "    loss='categorical_crossentropy',\n",
    "    optimizer=optimizer,\n",
    "    metrics=[\n",
    "        metrics.Precision(),\n",
    "        metrics.Recall(),\n",
    "        'categorical_accuracy'\n",
    "    ]\n",
    ")\n",
    "\n",
    "print(model_lstm.summary())"
   ]
  },
  {
   "cell_type": "markdown",
   "metadata": {},
   "source": [
    "**Определяем callback'и и обучаем модель**"
   ]
  },
  {
   "cell_type": "code",
   "execution_count": null,
   "metadata": {},
   "outputs": [],
   "source": [
    "checkpoint_callback_lstm = ModelCheckpoint(\n",
    "    MODEL_LSTM_SAVE_PATH,\n",
    "    monitor='val_loss',\n",
    "    save_best_only=True,\n",
    "    save_weights_only=False,\n",
    "    verbose=1\n",
    ")\n",
    "\n",
    "early_stopping_callback = EarlyStopping(\n",
    "    monitor='val_loss',\n",
    "    patience=4,\n",
    "    min_delta=0.001\n",
    ")\n",
    "\n",
    "history = model_lstm.fit(\n",
    "    X_train,\n",
    "    Y_train,\n",
    "    epochs=EPOCHS,\n",
    "    batch_size=BATCH_SIZE,\n",
    "    validation_split=0.2,\n",
    "    callbacks=[early_stopping_callback, checkpoint_callback_lstm]\n",
    ")\n",
    "# Сохраним историю обучания\n",
    "with open(HISTORY_LSTM_SAVE_PATH, 'wb') as handle:\n",
    "    pickle.dump(history.history, handle)\n",
    "# Завершить обучение\n",
    "clear_session()"
   ]
  },
  {
   "cell_type": "markdown",
   "metadata": {},
   "source": [
    "# Тестирование"
   ]
  },
  {
   "cell_type": "markdown",
   "metadata": {},
   "source": [
    "**Загрузим историю обучения, токенайзер и модель**"
   ]
  },
  {
   "cell_type": "code",
   "execution_count": null,
   "metadata": {},
   "outputs": [],
   "source": [
    "# Загружаем сохраненный токенайзер\n",
    "with open(TOKENIZER_SAVE_PATH, 'rb') as handle:\n",
    "    tokenizer = pickle.load(handle)\n",
    "\n",
    "# Загружаем историю обучения\n",
    "with open(HISTORY_LSTM_SAVE_PATH, 'rb') as handle:\n",
    "    history = pickle.load(handle)\n",
    "\n",
    "# Загружаем сохраненную модель\n",
    "lstm_model = models.load_model(MODEL_LSTM_SAVE_PATH)\n",
    "accr = lstm_model.evaluate(X_test, Y_test)\n",
    "\n",
    "# Смотрим показатели loss и метрик на тестовых данных\n",
    "print(\n",
    "    'Тестовый набор: \\n \\tloss: {:0.3f}\\n \\tprecision: {:0.3f}\\n \\trecall: {:0.3f}\\n \\tcategorical_accuracy: {:0.3f}'.format(\n",
    "        accr[0],\n",
    "        accr[1],\n",
    "        accr[2],\n",
    "        accr[3]\n",
    "    )\n",
    ")"
   ]
  },
  {
   "cell_type": "markdown",
   "metadata": {},
   "source": [
    "**Печатаем изменение лосса и метрик в процессе обучения**"
   ]
  },
  {
   "cell_type": "code",
   "execution_count": null,
   "metadata": {},
   "outputs": [],
   "source": [
    "def print_plot_by_epoches(model_history: Any) -> None:\n",
    "    \"\"\"Напечатать поведение лосса и метрик по эпохам\n",
    "\n",
    "    Аргументы:\n",
    "        - history_lstm (Any) - история обучения модели\n",
    "    \"\"\"\n",
    "    plt.title('Loss')\n",
    "    plt.plot(model_history['loss'], label='train')\n",
    "    plt.plot(model_history['val_loss'], label='test')\n",
    "    plt.legend()\n",
    "    plt.show()\n",
    "\n",
    "    plt.title('Prescision')\n",
    "    plt.plot(model_history['precision'], label='train')\n",
    "    plt.plot(model_history['val_precision'], label='test')\n",
    "    plt.legend()\n",
    "    plt.show()\n",
    "\n",
    "    plt.title('Recall')\n",
    "    plt.plot(model_history['recall'], label='train')\n",
    "    plt.plot(model_history['val_recall'], label='test')\n",
    "    plt.legend()\n",
    "    plt.show()\n",
    "\n",
    "    plt.title('Categorical accuracy')\n",
    "    plt.plot(model_history['categorical_accuracy'], label='train')\n",
    "    plt.plot(model_history['val_categorical_accuracy'], label='test')\n",
    "    plt.legend()\n",
    "    plt.show()\n",
    "\n",
    "\n",
    "print_plot_by_epoches(history)"
   ]
  },
  {
   "cell_type": "markdown",
   "metadata": {},
   "source": [
    "**Печать отчета по модели**"
   ]
  },
  {
   "cell_type": "code",
   "execution_count": null,
   "metadata": {},
   "outputs": [],
   "source": [
    "def get_classification_report(model: Any, x_test: np.ndarray, y_test: np.ndarray) -> None:\n",
    "    \"\"\"Напечатать отчет классификации тестовых данных\n",
    "\n",
    "    Аргументы:\n",
    "        - lstm_model (Any) - Модель классификатор\n",
    "        - x_test (np.ndarray) - Признаки\n",
    "        - y_test (np.ndarray) - Искомые классы\n",
    "    \"\"\"\n",
    "    classificated_by_lstm = model.predict(x_test)\n",
    "    df_predicted = pd.DataFrame(classificated_by_lstm)\n",
    "    df_test = pd.DataFrame(y_test)\n",
    "    # Получаем предсказанные тег\n",
    "    df_predicted['class'] = df_predicted.idxmax(axis=1)\n",
    "    # Получаем реальные теги\n",
    "    df_test['class'] = df_test.idxmax(axis=1)\n",
    "    df = pd.DataFrame()\n",
    "    df['class_real'] = df_test['class']\n",
    "    df['class_predicted'] = df_predicted['class']\n",
    "\n",
    "    report = classification_report(\n",
    "        y_true=df['class_real'],\n",
    "        y_pred=df['class_predicted'],\n",
    "        output_dict=True\n",
    "    )\n",
    "\n",
    "    df_report = pd.DataFrame(report).transpose()\n",
    "    df_report.to_excel(\n",
    "        'excel/classification_report_lstm.xlsx',\n",
    "        index=True\n",
    "    )\n",
    "    return df\n",
    "\n",
    "df_final = get_classification_report(lstm_model, X_test, Y_test)\n",
    "\n",
    "# Посмотреть как отработал классификатор на тестовых данных\n",
    "# display(df_final[df_final['class_predicted'] == df_final['class_real']])\n",
    "# display(df_final[df_final['class_predicted'] != df_final['class_real']])"
   ]
  },
  {
   "cell_type": "markdown",
   "metadata": {},
   "source": [
    "**Получить тег для текста**"
   ]
  },
  {
   "cell_type": "code",
   "execution_count": null,
   "metadata": {},
   "outputs": [],
   "source": [
    "def get_tag(input_text: List[str]) -> None:\n",
    "    \"\"\"Предсказать тег для поданной list[str]\n",
    "\n",
    "    Аргументы:\n",
    "        - input_text (list[str]) - Поданный текст для определения тега\n",
    "    \"\"\"\n",
    "\n",
    "    sequence = tokenizer.texts_to_sequences(input_text)\n",
    "    padded_sequence = pad_sequences(sequence, maxlen=MAX_SEQUENCE_LENGTH)\n",
    "    pred = lstm_model.predict(padded_sequence)\n",
    "    # classes_list = classes['tag_idx'].to_list()\n",
    "    # print(pred, classes_list[np.argmax(pred)])\n",
    "    df_pred = pd.DataFrame()\n",
    "    pred = pd.DataFrame(pred)\n",
    "    df_pred['tag_idx'] = pred.idxmax(axis=1)\n",
    "    df_pred = df_pred.merge(classes, on='tag_idx')\n",
    "    display(df_pred)\n",
    "    return df_pred['tag'][0]\n",
    "\n",
    "text_to_classify = ['Китай придумал способ сдержать рост цен']\n",
    "get_tag(text_to_classify)"
   ]
  },
  {
   "cell_type": "markdown",
   "metadata": {},
   "source": [
    "**Получим теги для транскрипций**"
   ]
  },
  {
   "cell_type": "code",
   "execution_count": null,
   "metadata": {},
   "outputs": [],
   "source": [
    "df_transcribed = pd.read_excel(r'excel\\transcribed.xlsx')\n",
    "\n",
    "df_transcribed['predicted_tag'] = df_transcribed['raw_text'].apply(get_tag)\n",
    "display(df_transcribed)"
   ]
  },
  {
   "cell_type": "code",
   "execution_count": null,
   "metadata": {},
   "outputs": [],
   "source": [
    "# Что можно порекомендовать\n",
    "# Проговорить несколько раз выступление\n",
    "# сделать ipynb\n",
    "# презентацию ускорить\n",
    "# сделать выводы"
   ]
  }
 ],
 "metadata": {
  "interpreter": {
   "hash": "c8141671160d9657a3dfce3ee2a025bd1996971af838a4f7b057132f53ed5d5a"
  },
  "kernelspec": {
   "display_name": "Python 3.9.12 ('venv': venv)",
   "language": "python",
   "name": "python3"
  },
  "language_info": {
   "codemirror_mode": {
    "name": "ipython",
    "version": 3
   },
   "file_extension": ".py",
   "mimetype": "text/x-python",
   "name": "python",
   "nbconvert_exporter": "python",
   "pygments_lexer": "ipython3",
   "version": "3.9.12"
  },
  "orig_nbformat": 4
 },
 "nbformat": 4,
 "nbformat_minor": 2
}
